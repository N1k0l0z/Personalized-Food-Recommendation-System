{
 "cells": [
  {
   "cell_type": "code",
   "execution_count": null,
   "metadata": {
    "colab": {
     "base_uri": "https://localhost:8080/"
    },
    "id": "qU3PM-AvDWg7",
    "outputId": "d8533efa-3080-43c0-c5c6-10f87e171e54"
   },
   "outputs": [
    {
     "name": "stdout",
     "output_type": "stream",
     "text": [
      "Drive already mounted at /content/drive; to attempt to forcibly remount, call drive.mount(\"/content/drive\", force_remount=True).\n"
     ]
    }
   ],
   "source": [
    "from google.colab import drive\n",
    "drive.mount('/content/drive')"
   ]
  },
  {
   "cell_type": "code",
   "execution_count": 2,
   "metadata": {
    "id": "NMQkBeFUDYnf"
   },
   "outputs": [],
   "source": [
    "import tensorflow as tf\n",
    "from transformers import TFAutoModel, AutoTokenizer\n",
    "import pandas as pd"
   ]
  },
  {
   "cell_type": "code",
   "execution_count": 4,
   "metadata": {
    "id": "K3Ce9ZvgpN8M"
   },
   "outputs": [],
   "source": [
    "data = pd.read_excel('C:\\\\Users\\\\kordz\\\\OneDrive\\\\Desktop\\\\Final Project\\\\Bert_Data.xlsx')"
   ]
  },
  {
   "cell_type": "code",
   "execution_count": 5,
   "metadata": {
    "colab": {
     "base_uri": "https://localhost:8080/",
     "height": 424
    },
    "id": "PYRfKw7rofjd",
    "outputId": "62d5b945-9c74-4968-a904-1a81c8429797"
   },
   "outputs": [
    {
     "data": {
      "text/html": [
       "<div>\n",
       "<style scoped>\n",
       "    .dataframe tbody tr th:only-of-type {\n",
       "        vertical-align: middle;\n",
       "    }\n",
       "\n",
       "    .dataframe tbody tr th {\n",
       "        vertical-align: top;\n",
       "    }\n",
       "\n",
       "    .dataframe thead th {\n",
       "        text-align: right;\n",
       "    }\n",
       "</style>\n",
       "<table border=\"1\" class=\"dataframe\">\n",
       "  <thead>\n",
       "    <tr style=\"text-align: right;\">\n",
       "      <th></th>\n",
       "      <th>word</th>\n",
       "      <th>category</th>\n",
       "    </tr>\n",
       "  </thead>\n",
       "  <tbody>\n",
       "    <tr>\n",
       "      <th>0</th>\n",
       "      <td>9 am to 11:30 am</td>\n",
       "      <td>breakfast</td>\n",
       "    </tr>\n",
       "    <tr>\n",
       "      <th>1</th>\n",
       "      <td>6:30-8 pm</td>\n",
       "      <td>breakfast</td>\n",
       "    </tr>\n",
       "    <tr>\n",
       "      <th>2</th>\n",
       "      <td>4-9 pm</td>\n",
       "      <td>breakfast</td>\n",
       "    </tr>\n",
       "    <tr>\n",
       "      <th>3</th>\n",
       "      <td>4-6 pm</td>\n",
       "      <td>breakfast</td>\n",
       "    </tr>\n",
       "    <tr>\n",
       "      <th>4</th>\n",
       "      <td>8:30-11:30</td>\n",
       "      <td>breakfast</td>\n",
       "    </tr>\n",
       "    <tr>\n",
       "      <th>...</th>\n",
       "      <td>...</td>\n",
       "      <td>...</td>\n",
       "    </tr>\n",
       "    <tr>\n",
       "      <th>950</th>\n",
       "      <td>Enjoying the feast of flavors!</td>\n",
       "      <td>comments</td>\n",
       "    </tr>\n",
       "    <tr>\n",
       "      <th>951</th>\n",
       "      <td>Delighting in gourmet goodness!</td>\n",
       "      <td>comments</td>\n",
       "    </tr>\n",
       "    <tr>\n",
       "      <th>952</th>\n",
       "      <td>Feeding my passion for food!</td>\n",
       "      <td>comments</td>\n",
       "    </tr>\n",
       "    <tr>\n",
       "      <th>953</th>\n",
       "      <td>Tasting the sweetness of life!</td>\n",
       "      <td>comments</td>\n",
       "    </tr>\n",
       "    <tr>\n",
       "      <th>954</th>\n",
       "      <td>Embracing the art of eating!</td>\n",
       "      <td>comments</td>\n",
       "    </tr>\n",
       "  </tbody>\n",
       "</table>\n",
       "<p>955 rows × 2 columns</p>\n",
       "</div>"
      ],
      "text/plain": [
       "                                word   category\n",
       "0                   9 am to 11:30 am  breakfast\n",
       "1                          6:30-8 pm  breakfast\n",
       "2                             4-9 pm  breakfast\n",
       "3                             4-6 pm  breakfast\n",
       "4                         8:30-11:30  breakfast\n",
       "..                               ...        ...\n",
       "950   Enjoying the feast of flavors!   comments\n",
       "951  Delighting in gourmet goodness!   comments\n",
       "952     Feeding my passion for food!   comments\n",
       "953   Tasting the sweetness of life!   comments\n",
       "954     Embracing the art of eating!   comments\n",
       "\n",
       "[955 rows x 2 columns]"
      ]
     },
     "execution_count": 5,
     "metadata": {},
     "output_type": "execute_result"
    }
   ],
   "source": [
    "data"
   ]
  },
  {
   "cell_type": "code",
   "execution_count": null,
   "metadata": {
    "colab": {
     "base_uri": "https://localhost:8080/"
    },
    "id": "QhdegUMMDza3",
    "outputId": "40aa9c75-9ed0-47a7-cfe8-3c3ae62a8a69"
   },
   "outputs": [
    {
     "name": "stderr",
     "output_type": "stream",
     "text": [
      "Some weights of the PyTorch model were not used when initializing the TF 2.0 model TFBertModel: ['cls.predictions.transform.dense.bias', 'cls.predictions.transform.dense.weight', 'cls.seq_relationship.bias', 'cls.seq_relationship.weight', 'cls.predictions.transform.LayerNorm.bias', 'cls.predictions.transform.LayerNorm.weight', 'cls.predictions.bias']\n",
      "- This IS expected if you are initializing TFBertModel from a PyTorch model trained on another task or with another architecture (e.g. initializing a TFBertForSequenceClassification model from a BertForPreTraining model).\n",
      "- This IS NOT expected if you are initializing TFBertModel from a PyTorch model that you expect to be exactly identical (e.g. initializing a TFBertForSequenceClassification model from a BertForSequenceClassification model).\n",
      "All the weights of TFBertModel were initialized from the PyTorch model.\n",
      "If your task is similar to the task the model of the checkpoint was trained on, you can already use TFBertModel for predictions without further training.\n"
     ]
    }
   ],
   "source": [
    "model = TFAutoModel.from_pretrained(\"bert-base-uncased\")\n",
    "tokenizer = AutoTokenizer.from_pretrained(\"bert-base-uncased\")"
   ]
  },
  {
   "cell_type": "code",
   "execution_count": null,
   "metadata": {
    "id": "Ey_1S8XiD1aa"
   },
   "outputs": [],
   "source": [
    "def tokenize_text(texts):\n",
    "    return tokenizer(texts, padding=True, truncation=True, return_tensors='tf')"
   ]
  },
  {
   "cell_type": "code",
   "execution_count": null,
   "metadata": {
    "id": "lB_-ZiB7D54G"
   },
   "outputs": [],
   "source": [
    "data['word'] = data['word'].astype(str)\n",
    "inputs = tokenize_text(data['word'].tolist())"
   ]
  },
  {
   "cell_type": "code",
   "execution_count": null,
   "metadata": {
    "id": "dA_X87gjD8ke"
   },
   "outputs": [],
   "source": [
    "label_map = {label: idx for idx, label in enumerate(data['category'].unique())}\n",
    "data['label'] = data['category'].map(label_map)"
   ]
  },
  {
   "cell_type": "code",
   "execution_count": null,
   "metadata": {
    "id": "PLG9G0brEdzo"
   },
   "outputs": [],
   "source": [
    "dataset = tf.data.Dataset.from_tensor_slices((dict(inputs), data['label'].tolist()))"
   ]
  },
  {
   "cell_type": "code",
   "execution_count": null,
   "metadata": {
    "id": "CMAcZvMSEgzl"
   },
   "outputs": [],
   "source": [
    "BATCH_SIZE = 64\n",
    "dataset = dataset.shuffle(len(data)).batch(BATCH_SIZE)"
   ]
  },
  {
   "cell_type": "code",
   "execution_count": null,
   "metadata": {
    "id": "Qy6sgnZfEiv2"
   },
   "outputs": [],
   "source": [
    "class BERTForClassification(tf.keras.Model):\n",
    "\n",
    "    def __init__(self, bert_model, num_classes):\n",
    "        super().__init__()\n",
    "        self.bert = bert_model\n",
    "        self.fc = tf.keras.layers.Dense(num_classes, activation='softmax')\n",
    "\n",
    "    def call(self, inputs):\n",
    "        x = self.bert(inputs)[1]\n",
    "        return self.fc(x)"
   ]
  },
  {
   "cell_type": "code",
   "execution_count": null,
   "metadata": {
    "id": "oEu5lwLaEkoI"
   },
   "outputs": [],
   "source": [
    "num_classes = len(label_map)\n",
    "classifier = BERTForClassification(model, num_classes=num_classes)"
   ]
  },
  {
   "cell_type": "code",
   "execution_count": null,
   "metadata": {
    "colab": {
     "base_uri": "https://localhost:8080/"
    },
    "id": "qXXmeesPEnBZ",
    "outputId": "d993d2f0-582d-4564-aabf-bde48930f2d6"
   },
   "outputs": [
    {
     "name": "stdout",
     "output_type": "stream",
     "text": [
      "Epoch 1/5\n",
      "15/15 [==============================] - 251s 13s/step - loss: 1.6485 - accuracy: 0.4346\n",
      "Epoch 2/5\n",
      "15/15 [==============================] - 191s 13s/step - loss: 1.1848 - accuracy: 0.6461\n",
      "Epoch 3/5\n",
      "15/15 [==============================] - 191s 13s/step - loss: 0.8135 - accuracy: 0.7654\n",
      "Epoch 4/5\n",
      "15/15 [==============================] - 197s 13s/step - loss: 0.5456 - accuracy: 0.8953\n",
      "Epoch 5/5\n",
      "15/15 [==============================] - 192s 13s/step - loss: 0.3414 - accuracy: 0.9581\n"
     ]
    }
   ],
   "source": [
    "classifier.compile(\n",
    "    optimizer=tf.keras.optimizers.Adam(learning_rate=1e-5),\n",
    "    loss=tf.keras.losses.SparseCategoricalCrossentropy(),\n",
    "    metrics=['accuracy']\n",
    ")\n",
    "\n",
    "history = classifier.fit(\n",
    "    dataset,\n",
    "    epochs=5\n",
    ")"
   ]
  },
  {
   "cell_type": "code",
   "execution_count": null,
   "metadata": {
    "colab": {
     "base_uri": "https://localhost:8080/"
    },
    "id": "mvBZ6x5OFkOY",
    "outputId": "3c7b5531-2fcb-4004-e49a-1001de2cc3be"
   },
   "outputs": [
    {
     "name": "stdout",
     "output_type": "stream",
     "text": [
      "Predicted Labels: ['drinks']\n"
     ]
    }
   ],
   "source": [
    " new_data = ['6:00-9:00 pm']\n",
    "\n",
    "# Tokenize input data\n",
    "tokenized_input = tokenizer(new_data, padding=True, truncation=True, return_tensors=\"tf\")\n",
    "\n",
    "# Make predictions using the BERT model\n",
    "outputs = model(tokenized_input)\n",
    "\n",
    "# Assuming classification task, take logits from the output\n",
    "logits = outputs.last_hidden_state\n",
    "\n",
    "\n",
    "num_classes = 6\n",
    "classifier_layer = tf.keras.layers.Dense(num_classes, activation='softmax')\n",
    "predictions = classifier_layer(logits[:, 0, :])\n",
    "\n",
    "predicted_categories = tf.argmax(predictions, axis=-1)\n",
    "\n",
    "# Map indices to actual category labels (if needed)\n",
    "# Replace this with your actual mapping of indices to labels\n",
    "label_map = {0: 'breakfast', 1: 'lunch', 2: 'dinner', 3: 'snacks', 4: 'drinks', 5: 'not_category'}\n",
    "\n",
    "# Map predicted indices to labels\n",
    "predicted_labels = [label_map[idx.numpy()] for idx in predicted_categories]\n",
    "\n",
    "# Print or use predicted labels as needed\n",
    "print(\"Predicted Labels:\", predicted_labels)"
   ]
  },
  {
   "cell_type": "markdown",
   "metadata": {},
   "source": [
    "# This model has quite poor performance because having no proper data and data which is used here is generated by chat gpt."
   ]
  }
 ],
 "metadata": {
  "colab": {
   "provenance": []
  },
  "kernelspec": {
   "display_name": "Python 3 (ipykernel)",
   "language": "python",
   "name": "python3"
  },
  "language_info": {
   "codemirror_mode": {
    "name": "ipython",
    "version": 3
   },
   "file_extension": ".py",
   "mimetype": "text/x-python",
   "name": "python",
   "nbconvert_exporter": "python",
   "pygments_lexer": "ipython3",
   "version": "3.12.0"
  }
 },
 "nbformat": 4,
 "nbformat_minor": 1
}
