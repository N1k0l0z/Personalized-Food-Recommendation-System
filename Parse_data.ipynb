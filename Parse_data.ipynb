{
  "nbformat": 4,
  "nbformat_minor": 0,
  "metadata": {
    "colab": {
      "provenance": [],
      "gpuType": "T4"
    },
    "kernelspec": {
      "name": "python3",
      "display_name": "Python 3"
    },
    "language_info": {
      "name": "python"
    }
  },
  "cells": [
    {
      "cell_type": "code",
      "execution_count": 1,
      "metadata": {
        "colab": {
          "base_uri": "https://localhost:8080/"
        },
        "id": "gqm6xKFH1vsk",
        "outputId": "1dc65cb6-6517-4b88-dd23-49897d5544b8"
      },
      "outputs": [
        {
          "output_type": "stream",
          "name": "stdout",
          "text": [
            "Mounted at /content/drive\n"
          ]
        }
      ],
      "source": [
        "from google.colab import drive\n",
        "drive.mount('/content/drive')"
      ]
    },
    {
      "cell_type": "code",
      "source": [
        "import pandas as pd\n",
        "import json\n",
        "import numpy as np\n",
        "import threading\n",
        "from concurrent.futures import ThreadPoolExecutor\n",
        "import pandas as pd\n",
        "import gc\n",
        "import os"
      ],
      "metadata": {
        "id": "CIQExcVx14gj"
      },
      "execution_count": 2,
      "outputs": []
    },
    {
      "cell_type": "markdown",
      "source": [
        "# **Read data**"
      ],
      "metadata": {
        "id": "TXDxK12VSmvr"
      }
    },
    {
      "cell_type": "code",
      "source": [
        "data = pd.read_csv('/content/drive/MyDrive/Final Project/mfp-diaries.tsv', sep='\\t', header=None)"
      ],
      "metadata": {
        "id": "QBy-1fR72CZL"
      },
      "execution_count": 3,
      "outputs": []
    },
    {
      "cell_type": "code",
      "source": [
        "data.head()"
      ],
      "metadata": {
        "id": "DCnHC08tpkcs",
        "outputId": "848ab1a6-3c05-476f-e35c-3d0640aea772",
        "colab": {
          "base_uri": "https://localhost:8080/",
          "height": 206
        }
      },
      "execution_count": 5,
      "outputs": [
        {
          "output_type": "execute_result",
          "data": {
            "text/plain": [
              "   0           1                                                  2  \\\n",
              "0  1  2014-09-14  [{\"meal\": \"MY food\", \"dishes\": [{\"nutritions\":...   \n",
              "1  1  2014-09-15  [{\"meal\": \"MY food\", \"dishes\": [{\"nutritions\":...   \n",
              "2  1  2014-09-16  [{\"meal\": \"MY food\", \"dishes\": [{\"nutritions\":...   \n",
              "3  1  2014-09-17  [{\"meal\": \"MY food\", \"dishes\": [{\"nutritions\":...   \n",
              "4  1  2014-09-18  [{\"meal\": \"MY food\", \"dishes\": [{\"nutritions\":...   \n",
              "\n",
              "                                                   3  \n",
              "0  {\"total\": [{\"name\": \"Calories\", \"value\": 2924}...  \n",
              "1  {\"total\": [{\"name\": \"Calories\", \"value\": 2430}...  \n",
              "2  {\"total\": [{\"name\": \"Calories\", \"value\": 1862}...  \n",
              "3  {\"total\": [{\"name\": \"Calories\", \"value\": 2251}...  \n",
              "4  {\"total\": [{\"name\": \"Calories\", \"value\": 2001}...  "
            ],
            "text/html": [
              "\n",
              "  <div id=\"df-155cfd0a-8f93-4a7a-9052-c4251a795af3\" class=\"colab-df-container\">\n",
              "    <div>\n",
              "<style scoped>\n",
              "    .dataframe tbody tr th:only-of-type {\n",
              "        vertical-align: middle;\n",
              "    }\n",
              "\n",
              "    .dataframe tbody tr th {\n",
              "        vertical-align: top;\n",
              "    }\n",
              "\n",
              "    .dataframe thead th {\n",
              "        text-align: right;\n",
              "    }\n",
              "</style>\n",
              "<table border=\"1\" class=\"dataframe\">\n",
              "  <thead>\n",
              "    <tr style=\"text-align: right;\">\n",
              "      <th></th>\n",
              "      <th>0</th>\n",
              "      <th>1</th>\n",
              "      <th>2</th>\n",
              "      <th>3</th>\n",
              "    </tr>\n",
              "  </thead>\n",
              "  <tbody>\n",
              "    <tr>\n",
              "      <th>0</th>\n",
              "      <td>1</td>\n",
              "      <td>2014-09-14</td>\n",
              "      <td>[{\"meal\": \"MY food\", \"dishes\": [{\"nutritions\":...</td>\n",
              "      <td>{\"total\": [{\"name\": \"Calories\", \"value\": 2924}...</td>\n",
              "    </tr>\n",
              "    <tr>\n",
              "      <th>1</th>\n",
              "      <td>1</td>\n",
              "      <td>2014-09-15</td>\n",
              "      <td>[{\"meal\": \"MY food\", \"dishes\": [{\"nutritions\":...</td>\n",
              "      <td>{\"total\": [{\"name\": \"Calories\", \"value\": 2430}...</td>\n",
              "    </tr>\n",
              "    <tr>\n",
              "      <th>2</th>\n",
              "      <td>1</td>\n",
              "      <td>2014-09-16</td>\n",
              "      <td>[{\"meal\": \"MY food\", \"dishes\": [{\"nutritions\":...</td>\n",
              "      <td>{\"total\": [{\"name\": \"Calories\", \"value\": 1862}...</td>\n",
              "    </tr>\n",
              "    <tr>\n",
              "      <th>3</th>\n",
              "      <td>1</td>\n",
              "      <td>2014-09-17</td>\n",
              "      <td>[{\"meal\": \"MY food\", \"dishes\": [{\"nutritions\":...</td>\n",
              "      <td>{\"total\": [{\"name\": \"Calories\", \"value\": 2251}...</td>\n",
              "    </tr>\n",
              "    <tr>\n",
              "      <th>4</th>\n",
              "      <td>1</td>\n",
              "      <td>2014-09-18</td>\n",
              "      <td>[{\"meal\": \"MY food\", \"dishes\": [{\"nutritions\":...</td>\n",
              "      <td>{\"total\": [{\"name\": \"Calories\", \"value\": 2001}...</td>\n",
              "    </tr>\n",
              "  </tbody>\n",
              "</table>\n",
              "</div>\n",
              "    <div class=\"colab-df-buttons\">\n",
              "\n",
              "  <div class=\"colab-df-container\">\n",
              "    <button class=\"colab-df-convert\" onclick=\"convertToInteractive('df-155cfd0a-8f93-4a7a-9052-c4251a795af3')\"\n",
              "            title=\"Convert this dataframe to an interactive table.\"\n",
              "            style=\"display:none;\">\n",
              "\n",
              "  <svg xmlns=\"http://www.w3.org/2000/svg\" height=\"24px\" viewBox=\"0 -960 960 960\">\n",
              "    <path d=\"M120-120v-720h720v720H120Zm60-500h600v-160H180v160Zm220 220h160v-160H400v160Zm0 220h160v-160H400v160ZM180-400h160v-160H180v160Zm440 0h160v-160H620v160ZM180-180h160v-160H180v160Zm440 0h160v-160H620v160Z\"/>\n",
              "  </svg>\n",
              "    </button>\n",
              "\n",
              "  <style>\n",
              "    .colab-df-container {\n",
              "      display:flex;\n",
              "      gap: 12px;\n",
              "    }\n",
              "\n",
              "    .colab-df-convert {\n",
              "      background-color: #E8F0FE;\n",
              "      border: none;\n",
              "      border-radius: 50%;\n",
              "      cursor: pointer;\n",
              "      display: none;\n",
              "      fill: #1967D2;\n",
              "      height: 32px;\n",
              "      padding: 0 0 0 0;\n",
              "      width: 32px;\n",
              "    }\n",
              "\n",
              "    .colab-df-convert:hover {\n",
              "      background-color: #E2EBFA;\n",
              "      box-shadow: 0px 1px 2px rgba(60, 64, 67, 0.3), 0px 1px 3px 1px rgba(60, 64, 67, 0.15);\n",
              "      fill: #174EA6;\n",
              "    }\n",
              "\n",
              "    .colab-df-buttons div {\n",
              "      margin-bottom: 4px;\n",
              "    }\n",
              "\n",
              "    [theme=dark] .colab-df-convert {\n",
              "      background-color: #3B4455;\n",
              "      fill: #D2E3FC;\n",
              "    }\n",
              "\n",
              "    [theme=dark] .colab-df-convert:hover {\n",
              "      background-color: #434B5C;\n",
              "      box-shadow: 0px 1px 3px 1px rgba(0, 0, 0, 0.15);\n",
              "      filter: drop-shadow(0px 1px 2px rgba(0, 0, 0, 0.3));\n",
              "      fill: #FFFFFF;\n",
              "    }\n",
              "  </style>\n",
              "\n",
              "    <script>\n",
              "      const buttonEl =\n",
              "        document.querySelector('#df-155cfd0a-8f93-4a7a-9052-c4251a795af3 button.colab-df-convert');\n",
              "      buttonEl.style.display =\n",
              "        google.colab.kernel.accessAllowed ? 'block' : 'none';\n",
              "\n",
              "      async function convertToInteractive(key) {\n",
              "        const element = document.querySelector('#df-155cfd0a-8f93-4a7a-9052-c4251a795af3');\n",
              "        const dataTable =\n",
              "          await google.colab.kernel.invokeFunction('convertToInteractive',\n",
              "                                                    [key], {});\n",
              "        if (!dataTable) return;\n",
              "\n",
              "        const docLinkHtml = 'Like what you see? Visit the ' +\n",
              "          '<a target=\"_blank\" href=https://colab.research.google.com/notebooks/data_table.ipynb>data table notebook</a>'\n",
              "          + ' to learn more about interactive tables.';\n",
              "        element.innerHTML = '';\n",
              "        dataTable['output_type'] = 'display_data';\n",
              "        await google.colab.output.renderOutput(dataTable, element);\n",
              "        const docLink = document.createElement('div');\n",
              "        docLink.innerHTML = docLinkHtml;\n",
              "        element.appendChild(docLink);\n",
              "      }\n",
              "    </script>\n",
              "  </div>\n",
              "\n",
              "\n",
              "<div id=\"df-9e7910b6-0fe5-4e42-8933-6e851742dce1\">\n",
              "  <button class=\"colab-df-quickchart\" onclick=\"quickchart('df-9e7910b6-0fe5-4e42-8933-6e851742dce1')\"\n",
              "            title=\"Suggest charts\"\n",
              "            style=\"display:none;\">\n",
              "\n",
              "<svg xmlns=\"http://www.w3.org/2000/svg\" height=\"24px\"viewBox=\"0 0 24 24\"\n",
              "     width=\"24px\">\n",
              "    <g>\n",
              "        <path d=\"M19 3H5c-1.1 0-2 .9-2 2v14c0 1.1.9 2 2 2h14c1.1 0 2-.9 2-2V5c0-1.1-.9-2-2-2zM9 17H7v-7h2v7zm4 0h-2V7h2v10zm4 0h-2v-4h2v4z\"/>\n",
              "    </g>\n",
              "</svg>\n",
              "  </button>\n",
              "\n",
              "<style>\n",
              "  .colab-df-quickchart {\n",
              "      --bg-color: #E8F0FE;\n",
              "      --fill-color: #1967D2;\n",
              "      --hover-bg-color: #E2EBFA;\n",
              "      --hover-fill-color: #174EA6;\n",
              "      --disabled-fill-color: #AAA;\n",
              "      --disabled-bg-color: #DDD;\n",
              "  }\n",
              "\n",
              "  [theme=dark] .colab-df-quickchart {\n",
              "      --bg-color: #3B4455;\n",
              "      --fill-color: #D2E3FC;\n",
              "      --hover-bg-color: #434B5C;\n",
              "      --hover-fill-color: #FFFFFF;\n",
              "      --disabled-bg-color: #3B4455;\n",
              "      --disabled-fill-color: #666;\n",
              "  }\n",
              "\n",
              "  .colab-df-quickchart {\n",
              "    background-color: var(--bg-color);\n",
              "    border: none;\n",
              "    border-radius: 50%;\n",
              "    cursor: pointer;\n",
              "    display: none;\n",
              "    fill: var(--fill-color);\n",
              "    height: 32px;\n",
              "    padding: 0;\n",
              "    width: 32px;\n",
              "  }\n",
              "\n",
              "  .colab-df-quickchart:hover {\n",
              "    background-color: var(--hover-bg-color);\n",
              "    box-shadow: 0 1px 2px rgba(60, 64, 67, 0.3), 0 1px 3px 1px rgba(60, 64, 67, 0.15);\n",
              "    fill: var(--button-hover-fill-color);\n",
              "  }\n",
              "\n",
              "  .colab-df-quickchart-complete:disabled,\n",
              "  .colab-df-quickchart-complete:disabled:hover {\n",
              "    background-color: var(--disabled-bg-color);\n",
              "    fill: var(--disabled-fill-color);\n",
              "    box-shadow: none;\n",
              "  }\n",
              "\n",
              "  .colab-df-spinner {\n",
              "    border: 2px solid var(--fill-color);\n",
              "    border-color: transparent;\n",
              "    border-bottom-color: var(--fill-color);\n",
              "    animation:\n",
              "      spin 1s steps(1) infinite;\n",
              "  }\n",
              "\n",
              "  @keyframes spin {\n",
              "    0% {\n",
              "      border-color: transparent;\n",
              "      border-bottom-color: var(--fill-color);\n",
              "      border-left-color: var(--fill-color);\n",
              "    }\n",
              "    20% {\n",
              "      border-color: transparent;\n",
              "      border-left-color: var(--fill-color);\n",
              "      border-top-color: var(--fill-color);\n",
              "    }\n",
              "    30% {\n",
              "      border-color: transparent;\n",
              "      border-left-color: var(--fill-color);\n",
              "      border-top-color: var(--fill-color);\n",
              "      border-right-color: var(--fill-color);\n",
              "    }\n",
              "    40% {\n",
              "      border-color: transparent;\n",
              "      border-right-color: var(--fill-color);\n",
              "      border-top-color: var(--fill-color);\n",
              "    }\n",
              "    60% {\n",
              "      border-color: transparent;\n",
              "      border-right-color: var(--fill-color);\n",
              "    }\n",
              "    80% {\n",
              "      border-color: transparent;\n",
              "      border-right-color: var(--fill-color);\n",
              "      border-bottom-color: var(--fill-color);\n",
              "    }\n",
              "    90% {\n",
              "      border-color: transparent;\n",
              "      border-bottom-color: var(--fill-color);\n",
              "    }\n",
              "  }\n",
              "</style>\n",
              "\n",
              "  <script>\n",
              "    async function quickchart(key) {\n",
              "      const quickchartButtonEl =\n",
              "        document.querySelector('#' + key + ' button');\n",
              "      quickchartButtonEl.disabled = true;  // To prevent multiple clicks.\n",
              "      quickchartButtonEl.classList.add('colab-df-spinner');\n",
              "      try {\n",
              "        const charts = await google.colab.kernel.invokeFunction(\n",
              "            'suggestCharts', [key], {});\n",
              "      } catch (error) {\n",
              "        console.error('Error during call to suggestCharts:', error);\n",
              "      }\n",
              "      quickchartButtonEl.classList.remove('colab-df-spinner');\n",
              "      quickchartButtonEl.classList.add('colab-df-quickchart-complete');\n",
              "    }\n",
              "    (() => {\n",
              "      let quickchartButtonEl =\n",
              "        document.querySelector('#df-9e7910b6-0fe5-4e42-8933-6e851742dce1 button');\n",
              "      quickchartButtonEl.style.display =\n",
              "        google.colab.kernel.accessAllowed ? 'block' : 'none';\n",
              "    })();\n",
              "  </script>\n",
              "</div>\n",
              "\n",
              "    </div>\n",
              "  </div>\n"
            ],
            "application/vnd.google.colaboratory.intrinsic+json": {
              "type": "dataframe",
              "variable_name": "data"
            }
          },
          "metadata": {},
          "execution_count": 5
        }
      ]
    },
    {
      "cell_type": "markdown",
      "source": [
        "# **This is the value of first row**"
      ],
      "metadata": {
        "id": "R6ho13bEpdHU"
      }
    },
    {
      "cell_type": "code",
      "source": [
        "data.iloc[[0],:].values"
      ],
      "metadata": {
        "colab": {
          "base_uri": "https://localhost:8080/"
        },
        "id": "5SNVX0nHpZll",
        "outputId": "f36d4b96-3d88-49dd-df68-0e39f5d50b30"
      },
      "execution_count": 4,
      "outputs": [
        {
          "output_type": "execute_result",
          "data": {
            "text/plain": [
              "array([[1, '2014-09-14',\n",
              "        '[{\"meal\": \"MY food\", \"dishes\": [{\"nutritions\": [{\"name\": \"Calories\", \"value\": \"412\"}, {\"name\": \"Carbs\", \"value\": \"29\"}, {\"name\": \"Fat\", \"value\": \"24\"}, {\"name\": \"Protein\", \"value\": \"21\"}, {\"name\": \"Sodium\", \"value\": \"258\"}, {\"name\": \"Sugar\", \"value\": \"29\"}], \"name\": \"my - McDonalds Espresso Pronto\\\\u00ae Flat White, 2 TALL\"}, {\"nutritions\": [{\"name\": \"Calories\", \"value\": \"170\"}, {\"name\": \"Carbs\", \"value\": \"25\"}, {\"name\": \"Fat\", \"value\": \"5\"}, {\"name\": \"Protein\", \"value\": \"20\"}, {\"name\": \"Sodium\", \"value\": \"260\"}, {\"name\": \"Sugar\", \"value\": \"2\"}], \"name\": \"Quest Bar - Banana Nut Muffin Natural Protein Bar, 60 g\"}, {\"nutritions\": [{\"name\": \"Calories\", \"value\": \"176\"}, {\"name\": \"Carbs\", \"value\": \"33\"}, {\"name\": \"Fat\", \"value\": \"1\"}, {\"name\": \"Protein\", \"value\": \"5\"}, {\"name\": \"Sodium\", \"value\": \"195\"}, {\"name\": \"Sugar\", \"value\": \"0\"}], \"name\": \"Uncle Tobys Australia - Vita Brits, 3 Biscuits 33.3g\"}, {\"nutritions\": [{\"name\": \"Calories\", \"value\": \"342\"}, {\"name\": \"Carbs\", \"value\": \"34\"}, {\"name\": \"Fat\", \"value\": \"12\"}, {\"name\": \"Protein\", \"value\": \"24\"}, {\"name\": \"Sodium\", \"value\": \"402\"}, {\"name\": \"Sugar\", \"value\": \"34\"}], \"name\": \"Pauls - Smarter White Milk, 600 ml\"}, {\"nutritions\": [{\"name\": \"Calories\", \"value\": \"180\"}, {\"name\": \"Carbs\", \"value\": \"22\"}, {\"name\": \"Fat\", \"value\": \"7\"}, {\"name\": \"Protein\", \"value\": \"21\"}, {\"name\": \"Sodium\", \"value\": \"310\"}, {\"name\": \"Sugar\", \"value\": \"1\"}], \"name\": \"Quest Bar - Cookies and Cream, 1 bar\"}, {\"nutritions\": [{\"name\": \"Calories\", \"value\": \"180\"}, {\"name\": \"Carbs\", \"value\": \"46\"}, {\"name\": \"Fat\", \"value\": \"0\"}, {\"name\": \"Protein\", \"value\": \"0\"}, {\"name\": \"Sodium\", \"value\": \"100\"}, {\"name\": \"Sugar\", \"value\": \"22\"}], \"name\": \"Gu Sports - Chomps, 8 pieces\"}, {\"nutritions\": [{\"name\": \"Calories\", \"value\": \"170\"}, {\"name\": \"Carbs\", \"value\": \"25\"}, {\"name\": \"Fat\", \"value\": \"5\"}, {\"name\": \"Protein\", \"value\": \"20\"}, {\"name\": \"Sodium\", \"value\": \"260\"}, {\"name\": \"Sugar\", \"value\": \"2\"}], \"name\": \"Quest Bar - Banana Nut Muffin Natural Protein Bar, 60 g\"}, {\"nutritions\": [{\"name\": \"Calories\", \"value\": \"160\"}, {\"name\": \"Carbs\", \"value\": \"25\"}, {\"name\": \"Fat\", \"value\": \"5\"}, {\"name\": \"Protein\", \"value\": \"20\"}, {\"name\": \"Sodium\", \"value\": \"240\"}, {\"name\": \"Sugar\", \"value\": \"2\"}], \"name\": \"Quest - Protein Bar Chocolate Peanut Butter, 1 bar (60 g)\"}, {\"nutritions\": [{\"name\": \"Calories\", \"value\": \"686\"}, {\"name\": \"Carbs\", \"value\": \"59\"}, {\"name\": \"Fat\", \"value\": \"31\"}, {\"name\": \"Protein\", \"value\": \"40\"}, {\"name\": \"Sodium\", \"value\": \"1,105\"}, {\"name\": \"Sugar\", \"value\": \"9\"}], \"name\": \"Grilld - Simply Grilled (Real), 1.25 burger\"}, {\"nutritions\": [{\"name\": \"Calories\", \"value\": \"252\"}, {\"name\": \"Carbs\", \"value\": \"27\"}, {\"name\": \"Fat\", \"value\": \"14\"}, {\"name\": \"Protein\", \"value\": \"5\"}, {\"name\": \"Sodium\", \"value\": \"352\"}, {\"name\": \"Sugar\", \"value\": \"1\"}], \"name\": \"Grilld - Snack Chips, 1 snack size\"}, {\"nutritions\": [{\"name\": \"Calories\", \"value\": \"196\"}, {\"name\": \"Carbs\", \"value\": \"15\"}, {\"name\": \"Fat\", \"value\": \"10\"}, {\"name\": \"Protein\", \"value\": \"10\"}, {\"name\": \"Sodium\", \"value\": \"176\"}, {\"name\": \"Sugar\", \"value\": \"7\"}], \"name\": \"Tasti - Salted Caramel Protein Bar, 40 g\"}], \"sequence\": 1}]',\n",
              "        '{\"total\": [{\"name\": \"Calories\", \"value\": 2924}, {\"name\": \"Carbs\", \"value\": 340}, {\"name\": \"Fat\", \"value\": 114}, {\"name\": \"Protein\", \"value\": 186}, {\"name\": \"Sodium\", \"value\": 3658}, {\"name\": \"Sugar\", \"value\": 109}], \"goal\": [{\"name\": \"Calories\", \"value\": 3173}, {\"name\": \"Carbs\", \"value\": 396}, {\"name\": \"Fat\", \"value\": 105}, {\"name\": \"Protein\", \"value\": 160}, {\"name\": \"Sodium\", \"value\": 2300}, {\"name\": \"Sugar\", \"value\": 119}]}']],\n",
              "      dtype=object)"
            ]
          },
          "metadata": {},
          "execution_count": 4
        }
      ]
    },
    {
      "cell_type": "markdown",
      "source": [
        "# **Convert given row from string to json**"
      ],
      "metadata": {
        "id": "OeaojrdpSrf9"
      }
    },
    {
      "cell_type": "code",
      "source": [
        "def convert_to_json(row):\n",
        "    id = row[0]\n",
        "    date = row[1]\n",
        "    details = json.loads(row[2])\n",
        "    summary = json.loads(row[3])\n",
        "    return pd.DataFrame([[id, date, details, summary]], columns=['Id', 'Date', 'Details', 'Summary'])"
      ],
      "metadata": {
        "id": "kuukvhXUFk1c"
      },
      "execution_count": null,
      "outputs": []
    },
    {
      "cell_type": "code",
      "source": [
        "def create_threads_for_rows(data):\n",
        "    threads = []\n",
        "    results = []\n",
        "\n",
        "    def thread_function(index, row):\n",
        "        processed_row = convert_to_json(row)\n",
        "        results.append(processed_row)\n",
        "\n",
        "    num_rows = data.shape[0]\n",
        "    for i in range(num_rows):\n",
        "        row = data.iloc[i, :]\n",
        "        thread = threading.Thread(target=thread_function, args=(i, row))\n",
        "        threads.append(thread)\n",
        "        thread.start()\n",
        "\n",
        "    for thread in threads:\n",
        "        thread.join()\n",
        "\n",
        "    processed_data = pd.concat(results, ignore_index=True)\n",
        "    return processed_data"
      ],
      "metadata": {
        "id": "HuBcp_fTaI-I"
      },
      "execution_count": null,
      "outputs": []
    },
    {
      "cell_type": "markdown",
      "source": [
        "# **Find all unique columns available in whole dataset and create columnset**"
      ],
      "metadata": {
        "id": "_HVBk4kjSyvb"
      }
    },
    {
      "cell_type": "code",
      "source": [
        "def create_columnset(data):\n",
        "    dish_nutritions = set()\n",
        "    total_nutritions = set()\n",
        "    goal_nutritions = set()\n",
        "\n",
        "    for index, row in data.iterrows():\n",
        "        meals_data_json = row[2]\n",
        "        nutrition_data_json = row[3]\n",
        "\n",
        "        meals_data = json.loads(meals_data_json)\n",
        "        for meal in meals_data:\n",
        "            for dish in meal['dishes']:\n",
        "                for nutrition in dish['nutritions']:\n",
        "                    dish_nutritions.add(nutrition['name'])\n",
        "\n",
        "        nutrition_data = json.loads(nutrition_data_json)\n",
        "\n",
        "        for item in nutrition_data['total']:\n",
        "            total_nutritions.add(item['name'])\n",
        "\n",
        "\n",
        "        for item in nutrition_data['goal']:\n",
        "            goal_nutritions.add(item['name'])\n",
        "\n",
        "\n",
        "    dish_words_list = sorted(dish_nutritions)\n",
        "    total_words_list = sorted(total_nutritions)\n",
        "    goal_words_list = sorted(goal_nutritions)\n",
        "\n",
        "    sorted_combined_list = dish_words_list + total_words_list + goal_words_list\n",
        "\n",
        "\n",
        "    print(\"Dish Nutrition Words:\", dish_words_list)\n",
        "    print(\"Total Nutrition Words:\", total_words_list)\n",
        "    print(\"Goal Nutrition Words:\", goal_words_list)\n",
        "    print(\"Combined Sorted List:\", sorted_combined_list)\n",
        "\n",
        "    return sorted_combined_list\n",
        "columnset = create_columnset(data)"
      ],
      "metadata": {
        "colab": {
          "base_uri": "https://localhost:8080/"
        },
        "id": "kE6Uo6xOJRMR",
        "outputId": "ec86700a-9bae-4164-8116-0d2b43e840e9"
      },
      "execution_count": null,
      "outputs": [
        {
          "output_type": "stream",
          "name": "stdout",
          "text": [
            "Dish Nutrition Words: ['Calcium', 'Calories', 'Carbs', 'Chol', 'Fat', 'Fiber', 'Iron', 'Mon Fat', 'Ply Fat', 'Potass.', 'Protein', 'Sat Fat', 'Sodium', 'Sugar', 'Trn Fat', 'Vit A', 'Vit C']\n",
            "Total Nutrition Words: ['Calcium', 'Calories', 'Carbs', 'Chol', 'Fat', 'Fiber', 'Iron', 'Mon Fat', 'Ply Fat', 'Potass.', 'Protein', 'Sat Fat', 'Sodium', 'Sugar', 'Trn Fat', 'Vit A', 'Vit C']\n",
            "Goal Nutrition Words: ['Calcium', 'Calories', 'Carbs', 'Chol', 'Fat', 'Fiber', 'Iron', 'Mon Fat', 'Ply Fat', 'Potass.', 'Protein', 'Sat Fat', 'Sodium', 'Sugar', 'Trn Fat', 'Vit A', 'Vit C']\n",
            "Combined Sorted List: ['Calcium', 'Calories', 'Carbs', 'Chol', 'Fat', 'Fiber', 'Iron', 'Mon Fat', 'Ply Fat', 'Potass.', 'Protein', 'Sat Fat', 'Sodium', 'Sugar', 'Trn Fat', 'Vit A', 'Vit C', 'Calcium', 'Calories', 'Carbs', 'Chol', 'Fat', 'Fiber', 'Iron', 'Mon Fat', 'Ply Fat', 'Potass.', 'Protein', 'Sat Fat', 'Sodium', 'Sugar', 'Trn Fat', 'Vit A', 'Vit C', 'Calcium', 'Calories', 'Carbs', 'Chol', 'Fat', 'Fiber', 'Iron', 'Mon Fat', 'Ply Fat', 'Potass.', 'Protein', 'Sat Fat', 'Sodium', 'Sugar', 'Trn Fat', 'Vit A', 'Vit C']\n"
          ]
        }
      ]
    },
    {
      "cell_type": "code",
      "source": [
        "columnset.insert(0, 'Id')\n",
        "columnset.insert(1, 'Date')\n",
        "columnset.insert(2, 'Meal')\n",
        "columnset.insert(3, 'Sequence')\n",
        "columnset"
      ],
      "metadata": {
        "colab": {
          "base_uri": "https://localhost:8080/"
        },
        "id": "R7SC7tI7Kmil",
        "outputId": "63e6e1e2-2f57-47c7-9032-6a2a32c8695c"
      },
      "execution_count": null,
      "outputs": [
        {
          "output_type": "execute_result",
          "data": {
            "text/plain": [
              "['Id',\n",
              " 'Date',\n",
              " 'Meal',\n",
              " 'Sequence',\n",
              " 'Calcium',\n",
              " 'Calories',\n",
              " 'Carbs',\n",
              " 'Chol',\n",
              " 'Fat',\n",
              " 'Fiber',\n",
              " 'Iron',\n",
              " 'Mon Fat',\n",
              " 'Ply Fat',\n",
              " 'Potass.',\n",
              " 'Protein',\n",
              " 'Sat Fat',\n",
              " 'Sodium',\n",
              " 'Sugar',\n",
              " 'Trn Fat',\n",
              " 'Vit A',\n",
              " 'Vit C',\n",
              " 'Calcium',\n",
              " 'Calories',\n",
              " 'Carbs',\n",
              " 'Chol',\n",
              " 'Fat',\n",
              " 'Fiber',\n",
              " 'Iron',\n",
              " 'Mon Fat',\n",
              " 'Ply Fat',\n",
              " 'Potass.',\n",
              " 'Protein',\n",
              " 'Sat Fat',\n",
              " 'Sodium',\n",
              " 'Sugar',\n",
              " 'Trn Fat',\n",
              " 'Vit A',\n",
              " 'Vit C',\n",
              " 'Calcium',\n",
              " 'Calories',\n",
              " 'Carbs',\n",
              " 'Chol',\n",
              " 'Fat',\n",
              " 'Fiber',\n",
              " 'Iron',\n",
              " 'Mon Fat',\n",
              " 'Ply Fat',\n",
              " 'Potass.',\n",
              " 'Protein',\n",
              " 'Sat Fat',\n",
              " 'Sodium',\n",
              " 'Sugar',\n",
              " 'Trn Fat',\n",
              " 'Vit A',\n",
              " 'Vit C']"
            ]
          },
          "metadata": {},
          "execution_count": 7
        }
      ]
    },
    {
      "cell_type": "code",
      "source": [
        "pd.DataFrame(columnset).to_csv('/content/drive/MyDrive/Final Project/columnset.csv', index=False)"
      ],
      "metadata": {
        "id": "1p-lfzurIMB0"
      },
      "execution_count": null,
      "outputs": []
    },
    {
      "cell_type": "markdown",
      "source": [
        "# **Parse data according to nutrition values**"
      ],
      "metadata": {
        "id": "fnMbkALzTN6S"
      }
    },
    {
      "cell_type": "code",
      "source": [
        "def parse_data(row):\n",
        "    #global columnset\n",
        "    columnset = pd.read_csv('/content/drive/MyDrive/Final Project/columnset.csv').values.flatten().tolist()\n",
        "    id = row.values[0][0]\n",
        "    date = row.values[0][1]\n",
        "    nutritions_data = row.values[0][2]\n",
        "\n",
        "    rows = []\n",
        "\n",
        "    for meal_data in nutritions_data:\n",
        "        sequence = meal_data.get('sequence', np.nan)\n",
        "        meal_name = meal_data.get('meal', np.nan)\n",
        "        dishes = meal_data.get('dishes', [])\n",
        "\n",
        "        for dish in dishes:\n",
        "            dish_name = dish.get('name', np.nan)\n",
        "            nutritions_list = dish.get('nutritions', [])\n",
        "\n",
        "            nutrients = {\n",
        "                'Calcium': np.nan,\n",
        "                'Calories': np.nan,\n",
        "                'Carbs': np.nan,\n",
        "                'Chol': np.nan,\n",
        "                'Fat': np.nan,\n",
        "                'Fiber': np.nan,\n",
        "                'Iron': np.nan,\n",
        "                'Mon Fat': np.nan,\n",
        "                'Ply Fat': np.nan,\n",
        "                'Potass.': np.nan,\n",
        "                'Protein': np.nan,\n",
        "                'Sat Fat': np.nan,\n",
        "                'Sodium': np.nan,\n",
        "                'Sugar': np.nan,\n",
        "                'Trn Fat': np.nan,\n",
        "                'Vit A': np.nan,\n",
        "                'Vit C': np.nan\n",
        "            }\n",
        "\n",
        "            for nutrition in nutritions_list:\n",
        "                nutrient_name = nutrition.get('name', '')\n",
        "                if nutrient_name in nutrients:\n",
        "                    nutrients[nutrient_name] = nutrition.get('value', np.nan)\n",
        "                else:\n",
        "                    print(f\"Unexpected nutrient: {nutrient_name}\")\n",
        "\n",
        "            row_data = {\n",
        "                columnset[0]: id,\n",
        "                'Date': date,\n",
        "                'Sequence': sequence,\n",
        "                'MealName': meal_name,\n",
        "                'DishName': dish_name,\n",
        "                f\"{columnset[4]}_value\": nutrients['Calcium'],\n",
        "                f\"{columnset[5]}_value\": nutrients['Calories'],\n",
        "                f\"{columnset[6]}_value\": nutrients['Carbs'],\n",
        "                f\"{columnset[7]}_value\": nutrients['Chol'],\n",
        "                f\"{columnset[8]}_value\": nutrients['Fat'],\n",
        "                f\"{columnset[9]}_value\": nutrients['Fiber'],\n",
        "                f\"{columnset[10]}_value\": nutrients['Iron'],\n",
        "                f\"{columnset[11]}_value\": nutrients['Mon Fat'],\n",
        "                f\"{columnset[12]}_value\": nutrients['Ply Fat'],\n",
        "                f\"{columnset[13]}_value\": nutrients['Potass.'],\n",
        "                f\"{columnset[14]}_value\": nutrients['Protein'],\n",
        "                f\"{columnset[15]}_value\": nutrients['Sat Fat'],\n",
        "                f\"{columnset[16]}_value\": nutrients['Sodium'],\n",
        "                f\"{columnset[17]}_value\": nutrients['Sugar'],\n",
        "                f\"{columnset[18]}_value\": nutrients['Trn Fat'],\n",
        "                f\"{columnset[19]}_value\": nutrients['Vit A'],\n",
        "                f\"{columnset[20]}_value\": nutrients['Vit C'],\n",
        "            }\n",
        "\n",
        "            rows.append(row_data)\n",
        "\n",
        "    df = pd.DataFrame(rows)\n",
        "    return df"
      ],
      "metadata": {
        "id": "kidq1HjHQGF7"
      },
      "execution_count": null,
      "outputs": []
    },
    {
      "cell_type": "markdown",
      "source": [
        "# **Parse data according to customers' total and goal nutritions**"
      ],
      "metadata": {
        "id": "U29-hiYeTaFq"
      }
    },
    {
      "cell_type": "code",
      "source": [
        "def parse_data_total_goal(row):\n",
        "    totals = row.values[0][3].get('total', [])\n",
        "    goals = row.values[0][3].get('goal', [])\n",
        "\n",
        "    totals_dict = {\n",
        "        'Calcium_total': np.nan,\n",
        "        'Calories_total': np.nan,\n",
        "        'Carbs_total': np.nan,\n",
        "        'Chol_total': np.nan,\n",
        "        'Fat_total': np.nan,\n",
        "        'Fiber_total': np.nan,\n",
        "        'Iron_total': np.nan,\n",
        "        'Mon Fat_total': np.nan,\n",
        "        'Ply Fat_total': np.nan,\n",
        "        'Potass._total': np.nan,\n",
        "        'Protein_total': np.nan,\n",
        "        'Sat Fat_total': np.nan,\n",
        "        'Sodium_total': np.nan,\n",
        "        'Sugar_total': np.nan,\n",
        "        'Trn Fat_total': np.nan,\n",
        "        'Vit A_total': np.nan,\n",
        "        'Vit C_total': np.nan\n",
        "    }\n",
        "\n",
        "    goals_dict = {key.replace('_total', '_goal'): value for key, value in totals_dict.items()}\n",
        "\n",
        "    for total in totals:\n",
        "        name = total.get('name', '')\n",
        "        value = total.get('value', np.nan)\n",
        "        total_name = name + '_total'\n",
        "        if total_name in totals_dict:\n",
        "            totals_dict[total_name] = value\n",
        "\n",
        "    for goal in goals:\n",
        "        name = goal.get('name', '')\n",
        "        value = goal.get('value', np.nan)\n",
        "        goal_name = name + '_goal'\n",
        "        if goal_name in goals_dict:\n",
        "            goals_dict[goal_name] = value\n",
        "\n",
        "    totals_df = pd.DataFrame([totals_dict])\n",
        "    goals_df = pd.DataFrame([goals_dict])\n",
        "\n",
        "    both = pd.concat([totals_df, goals_df], axis=1)\n",
        "    return both"
      ],
      "metadata": {
        "id": "Oi18feRH9tfd"
      },
      "execution_count": null,
      "outputs": []
    },
    {
      "cell_type": "code",
      "source": [
        "def create_threads_for_processing(data):\n",
        "    threads = []\n",
        "    results = []\n",
        "\n",
        "    def thread_function(index, row):\n",
        "        row = create_threads_for_rows(data.iloc[[i], :])\n",
        "        processed_row_1 = parse_data(row)\n",
        "        processed_row_2 = parse_data_total_goal(row)\n",
        "        duplicated_df = pd.concat([processed_row_2] * processed_row_1.shape[0], ignore_index=True)\n",
        "        processed_row = pd.concat([processed_row_1, duplicated_df], axis=1)\n",
        "        results.append(processed_row)\n",
        "    num_rows = data.shape[0]\n",
        "    for i in range(num_rows):\n",
        "        row = data.iloc[[i], :]\n",
        "        thread = threading.Thread(target=thread_function, args=(i, row))\n",
        "        threads.append(thread)\n",
        "        thread.start()\n",
        "\n",
        "    for thread in threads:\n",
        "        thread.join()\n",
        "\n",
        "    processed_data = pd.concat(results, ignore_index=True)\n",
        "    return processed_data"
      ],
      "metadata": {
        "id": "kMgf-kVTFdM8"
      },
      "execution_count": null,
      "outputs": []
    },
    {
      "cell_type": "markdown",
      "source": [
        "# **Save parsed data in batches**"
      ],
      "metadata": {
        "id": "AZtXKlpUToKj"
      }
    },
    {
      "cell_type": "code",
      "source": [
        "def process_and_save_in_batches(data, batch_size=50000, save_dir='/content/drive/MyDrive/Final Project/'):\n",
        "    os.makedirs(save_dir, exist_ok=True)\n",
        "\n",
        "    num_rows = len(data)\n",
        "    num_batches = num_rows // batch_size + 1\n",
        "\n",
        "    for i in range(num_batches):\n",
        "        start_idx = i * batch_size\n",
        "        end_idx = min((i + 1) * batch_size, num_rows)\n",
        "\n",
        "        partial_data = data.iloc[start_idx:end_idx]\n",
        "\n",
        "        processd_rows = create_threads_for_processing(partial_data)\n",
        "\n",
        "        processd_rows.sort_values(by=['Id', 'Date'], inplace=True)\n",
        "\n",
        "        batch_filename = f'batch_{i + 1}.csv'\n",
        "        batch_path = os.path.join(save_dir, batch_filename)\n",
        "\n",
        "        processd_rows.to_csv(batch_path, index=False)\n",
        "\n",
        "        print(f'Saved batch {i + 1} to {batch_path}')\n",
        "\n",
        "        del processd_rows\n",
        "        del partial_data\n",
        "        gc.collect()\n",
        "\n",
        "    print('All batches processed and saved successfully.')\n",
        "process_and_save_in_batches(data)"
      ],
      "metadata": {
        "colab": {
          "base_uri": "https://localhost:8080/"
        },
        "id": "flk3yfhXTzur",
        "outputId": "df772f58-89f7-4c07-f2e4-e6e884be3a02"
      },
      "execution_count": null,
      "outputs": [
        {
          "output_type": "stream",
          "name": "stdout",
          "text": [
            "Saved batch 1 to /content/drive/MyDrive/Final Project/batch_1.csv\n",
            "Saved batch 2 to /content/drive/MyDrive/Final Project/batch_2.csv\n",
            "Saved batch 3 to /content/drive/MyDrive/Final Project/batch_3.csv\n",
            "Saved batch 4 to /content/drive/MyDrive/Final Project/batch_4.csv\n",
            "Saved batch 5 to /content/drive/MyDrive/Final Project/batch_5.csv\n",
            "Saved batch 6 to /content/drive/MyDrive/Final Project/batch_6.csv\n",
            "Saved batch 7 to /content/drive/MyDrive/Final Project/batch_7.csv\n",
            "Saved batch 8 to /content/drive/MyDrive/Final Project/batch_8.csv\n",
            "Saved batch 9 to /content/drive/MyDrive/Final Project/batch_9.csv\n",
            "Saved batch 10 to /content/drive/MyDrive/Final Project/batch_10.csv\n",
            "Saved batch 11 to /content/drive/MyDrive/Final Project/batch_11.csv\n",
            "Saved batch 12 to /content/drive/MyDrive/Final Project/batch_12.csv\n",
            "All batches processed and saved successfully.\n"
          ]
        }
      ]
    },
    {
      "cell_type": "markdown",
      "source": [
        "# **Aggregate all batches into one file**"
      ],
      "metadata": {
        "id": "ZN1fRL5CTwkj"
      }
    },
    {
      "cell_type": "code",
      "source": [
        "def consolidate_batches_into_csv(save_dir='/content/drive/MyDrive/Final Project/'):\n",
        "\n",
        "    csv_files = [f for f in os.listdir(save_dir) if f.startswith('batch_') and f.endswith('.csv')]\n",
        "    consolidated_data = pd.DataFrame()\n",
        "    for csv_file in csv_files:\n",
        "        csv_path = os.path.join(save_dir, csv_file)\n",
        "\n",
        "        batch_data = pd.read_csv(csv_path, low_memory=False)\n",
        "\n",
        "        consolidated_data = pd.concat([consolidated_data, batch_data], ignore_index=True, axis=0)\n",
        "\n",
        "\n",
        "    consolidated_file_path = os.path.join(save_dir, 'consolidated_data.csv')\n",
        "    consolidated_data.to_csv(consolidated_file_path, index=False)\n",
        "\n",
        "    print(f'Consolidated data saved to {consolidated_file_path}')\n",
        "\n",
        "consolidate_batches_into_csv()"
      ],
      "metadata": {
        "id": "d1YhT00TQSZI",
        "colab": {
          "base_uri": "https://localhost:8080/"
        },
        "outputId": "024c2572-983b-47d7-bf54-d0bc304b5b9b"
      },
      "execution_count": null,
      "outputs": [
        {
          "output_type": "stream",
          "name": "stdout",
          "text": [
            "Consolidated data saved to /content/drive/MyDrive/Final Project/consolidated_data.csv\n"
          ]
        }
      ]
    },
    {
      "cell_type": "markdown",
      "source": [
        "# **See the way how it is parsed**"
      ],
      "metadata": {
        "id": "e57W3P69T7ps"
      }
    },
    {
      "cell_type": "code",
      "source": [
        "import pandas as pd\n",
        "Consolidated_data = pd.read_csv('/content/drive/MyDrive/Final Project/consolidated_data.csv', low_memory=False)"
      ],
      "metadata": {
        "id": "aFzPfy5Rh0g8"
      },
      "execution_count": null,
      "outputs": []
    },
    {
      "cell_type": "code",
      "source": [
        "Consolidated_data.iloc[[1],:].values"
      ],
      "metadata": {
        "colab": {
          "base_uri": "https://localhost:8080/"
        },
        "id": "87zzZizoN4Sz",
        "outputId": "fda1bab8-459f-4250-ff98-b2a005165bbf"
      },
      "execution_count": null,
      "outputs": [
        {
          "output_type": "execute_result",
          "data": {
            "text/plain": [
              "array([[1, '2014-09-14', 1, 'MY food',\n",
              "        'Quest Bar - Banana Nut Muffin Natural Protein Bar, 60 g', nan,\n",
              "        '170', '25', nan, '5.0', nan, nan, nan, nan, nan, '20', nan,\n",
              "        '260', '2.0', nan, nan, nan, nan, 2924.0, 340.0, nan, 114.0, nan,\n",
              "        nan, nan, nan, nan, 186.0, nan, 3658.0, 109.0, nan, nan, nan,\n",
              "        nan, 3173.0, 396.0, nan, 105.0, nan, nan, nan, nan, nan, 160.0,\n",
              "        nan, 2300.0, 119.0, nan, nan, nan]], dtype=object)"
            ]
          },
          "metadata": {},
          "execution_count": 7
        }
      ]
    },
    {
      "cell_type": "code",
      "source": [
        "data.iloc[[0],:].values"
      ],
      "metadata": {
        "colab": {
          "base_uri": "https://localhost:8080/"
        },
        "id": "NdiYw5KyUYIc",
        "outputId": "211e8cd9-6603-4397-ddde-757953df6935"
      },
      "execution_count": null,
      "outputs": [
        {
          "output_type": "execute_result",
          "data": {
            "text/plain": [
              "array([[1, '2014-09-14',\n",
              "        '[{\"meal\": \"MY food\", \"dishes\": [{\"nutritions\": [{\"name\": \"Calories\", \"value\": \"412\"}, {\"name\": \"Carbs\", \"value\": \"29\"}, {\"name\": \"Fat\", \"value\": \"24\"}, {\"name\": \"Protein\", \"value\": \"21\"}, {\"name\": \"Sodium\", \"value\": \"258\"}, {\"name\": \"Sugar\", \"value\": \"29\"}], \"name\": \"my - McDonalds Espresso Pronto\\\\u00ae Flat White, 2 TALL\"}, {\"nutritions\": [{\"name\": \"Calories\", \"value\": \"170\"}, {\"name\": \"Carbs\", \"value\": \"25\"}, {\"name\": \"Fat\", \"value\": \"5\"}, {\"name\": \"Protein\", \"value\": \"20\"}, {\"name\": \"Sodium\", \"value\": \"260\"}, {\"name\": \"Sugar\", \"value\": \"2\"}], \"name\": \"Quest Bar - Banana Nut Muffin Natural Protein Bar, 60 g\"}, {\"nutritions\": [{\"name\": \"Calories\", \"value\": \"176\"}, {\"name\": \"Carbs\", \"value\": \"33\"}, {\"name\": \"Fat\", \"value\": \"1\"}, {\"name\": \"Protein\", \"value\": \"5\"}, {\"name\": \"Sodium\", \"value\": \"195\"}, {\"name\": \"Sugar\", \"value\": \"0\"}], \"name\": \"Uncle Tobys Australia - Vita Brits, 3 Biscuits 33.3g\"}, {\"nutritions\": [{\"name\": \"Calories\", \"value\": \"342\"}, {\"name\": \"Carbs\", \"value\": \"34\"}, {\"name\": \"Fat\", \"value\": \"12\"}, {\"name\": \"Protein\", \"value\": \"24\"}, {\"name\": \"Sodium\", \"value\": \"402\"}, {\"name\": \"Sugar\", \"value\": \"34\"}], \"name\": \"Pauls - Smarter White Milk, 600 ml\"}, {\"nutritions\": [{\"name\": \"Calories\", \"value\": \"180\"}, {\"name\": \"Carbs\", \"value\": \"22\"}, {\"name\": \"Fat\", \"value\": \"7\"}, {\"name\": \"Protein\", \"value\": \"21\"}, {\"name\": \"Sodium\", \"value\": \"310\"}, {\"name\": \"Sugar\", \"value\": \"1\"}], \"name\": \"Quest Bar - Cookies and Cream, 1 bar\"}, {\"nutritions\": [{\"name\": \"Calories\", \"value\": \"180\"}, {\"name\": \"Carbs\", \"value\": \"46\"}, {\"name\": \"Fat\", \"value\": \"0\"}, {\"name\": \"Protein\", \"value\": \"0\"}, {\"name\": \"Sodium\", \"value\": \"100\"}, {\"name\": \"Sugar\", \"value\": \"22\"}], \"name\": \"Gu Sports - Chomps, 8 pieces\"}, {\"nutritions\": [{\"name\": \"Calories\", \"value\": \"170\"}, {\"name\": \"Carbs\", \"value\": \"25\"}, {\"name\": \"Fat\", \"value\": \"5\"}, {\"name\": \"Protein\", \"value\": \"20\"}, {\"name\": \"Sodium\", \"value\": \"260\"}, {\"name\": \"Sugar\", \"value\": \"2\"}], \"name\": \"Quest Bar - Banana Nut Muffin Natural Protein Bar, 60 g\"}, {\"nutritions\": [{\"name\": \"Calories\", \"value\": \"160\"}, {\"name\": \"Carbs\", \"value\": \"25\"}, {\"name\": \"Fat\", \"value\": \"5\"}, {\"name\": \"Protein\", \"value\": \"20\"}, {\"name\": \"Sodium\", \"value\": \"240\"}, {\"name\": \"Sugar\", \"value\": \"2\"}], \"name\": \"Quest - Protein Bar Chocolate Peanut Butter, 1 bar (60 g)\"}, {\"nutritions\": [{\"name\": \"Calories\", \"value\": \"686\"}, {\"name\": \"Carbs\", \"value\": \"59\"}, {\"name\": \"Fat\", \"value\": \"31\"}, {\"name\": \"Protein\", \"value\": \"40\"}, {\"name\": \"Sodium\", \"value\": \"1,105\"}, {\"name\": \"Sugar\", \"value\": \"9\"}], \"name\": \"Grilld - Simply Grilled (Real), 1.25 burger\"}, {\"nutritions\": [{\"name\": \"Calories\", \"value\": \"252\"}, {\"name\": \"Carbs\", \"value\": \"27\"}, {\"name\": \"Fat\", \"value\": \"14\"}, {\"name\": \"Protein\", \"value\": \"5\"}, {\"name\": \"Sodium\", \"value\": \"352\"}, {\"name\": \"Sugar\", \"value\": \"1\"}], \"name\": \"Grilld - Snack Chips, 1 snack size\"}, {\"nutritions\": [{\"name\": \"Calories\", \"value\": \"196\"}, {\"name\": \"Carbs\", \"value\": \"15\"}, {\"name\": \"Fat\", \"value\": \"10\"}, {\"name\": \"Protein\", \"value\": \"10\"}, {\"name\": \"Sodium\", \"value\": \"176\"}, {\"name\": \"Sugar\", \"value\": \"7\"}], \"name\": \"Tasti - Salted Caramel Protein Bar, 40 g\"}], \"sequence\": 1}]',\n",
              "        '{\"total\": [{\"name\": \"Calories\", \"value\": 2924}, {\"name\": \"Carbs\", \"value\": 340}, {\"name\": \"Fat\", \"value\": 114}, {\"name\": \"Protein\", \"value\": 186}, {\"name\": \"Sodium\", \"value\": 3658}, {\"name\": \"Sugar\", \"value\": 109}], \"goal\": [{\"name\": \"Calories\", \"value\": 3173}, {\"name\": \"Carbs\", \"value\": 396}, {\"name\": \"Fat\", \"value\": 105}, {\"name\": \"Protein\", \"value\": 160}, {\"name\": \"Sodium\", \"value\": 2300}, {\"name\": \"Sugar\", \"value\": 119}]}']],\n",
              "      dtype=object)"
            ]
          },
          "metadata": {},
          "execution_count": 6
        }
      ]
    },
    {
      "cell_type": "markdown",
      "source": [
        "# **Function for parsing test data**"
      ],
      "metadata": {
        "id": "plziV-iACGiX"
      }
    },
    {
      "cell_type": "code",
      "source": [
        "def for_test(test):\n",
        "  processd_rows = create_threads_for_processing(test)\n",
        "  processd_rows.sort_values(by=['Id', 'Date'], inplace=True)\n",
        "  return processd_rows"
      ],
      "metadata": {
        "id": "grcX4Lb4G2NG"
      },
      "execution_count": null,
      "outputs": []
    },
    {
      "cell_type": "code",
      "source": [
        "for_test(data.iloc[[0],:]).to_csv('/content/drive/MyDrive/Final Project/real_testing.csv', index=False)"
      ],
      "metadata": {
        "id": "NZluhcVDItWv"
      },
      "execution_count": null,
      "outputs": []
    }
  ]
}