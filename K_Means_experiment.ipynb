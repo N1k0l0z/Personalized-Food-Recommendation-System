{
  "cells": [
    {
      "cell_type": "code",
      "execution_count": 9,
      "metadata": {
        "colab": {
          "base_uri": "https://localhost:8080/"
        },
        "id": "FBNncUNxfLBn",
        "outputId": "60032868-a93c-4f87-9669-492d31c25ca4"
      },
      "outputs": [
        {
          "name": "stdout",
          "output_type": "stream",
          "text": [
            "Drive already mounted at /content/drive; to attempt to forcibly remount, call drive.mount(\"/content/drive\", force_remount=True).\n"
          ]
        }
      ],
      "source": [
        "from google.colab import drive\n",
        "drive.mount('/content/drive')"
      ]
    },
    {
      "cell_type": "code",
      "execution_count": 4,
      "metadata": {
        "colab": {
          "base_uri": "https://localhost:8080/"
        },
        "id": "CO4f62NWgpDs",
        "outputId": "42c0ea8f-8c43-4f1f-9db2-d11fcd87d326"
      },
      "outputs": [
        {
          "name": "stdout",
          "output_type": "stream",
          "text": [
            "Collecting pyspark\n",
            "  Downloading pyspark-3.5.1.tar.gz (317.0 MB)\n",
            "\u001b[2K     \u001b[90m━━━━━━━━━━━━━━━━━━━━━━━━━━━━━━━━━━━━━━━━\u001b[0m \u001b[32m317.0/317.0 MB\u001b[0m \u001b[31m3.8 MB/s\u001b[0m eta \u001b[36m0:00:00\u001b[0m\n",
            "\u001b[?25h  Preparing metadata (setup.py) ... \u001b[?25l\u001b[?25hdone\n",
            "Requirement already satisfied: py4j==0.10.9.7 in /usr/local/lib/python3.10/dist-packages (from pyspark) (0.10.9.7)\n",
            "Building wheels for collected packages: pyspark\n",
            "  Building wheel for pyspark (setup.py) ... \u001b[?25l\u001b[?25hdone\n",
            "  Created wheel for pyspark: filename=pyspark-3.5.1-py2.py3-none-any.whl size=317488491 sha256=111eee6be6bbc28d3aed46fed53282f3b9a08edb873d41e0f1b9d8565614ccdf\n",
            "  Stored in directory: /root/.cache/pip/wheels/80/1d/60/2c256ed38dddce2fdd93be545214a63e02fbd8d74fb0b7f3a6\n",
            "Successfully built pyspark\n",
            "Installing collected packages: pyspark\n",
            "Successfully installed pyspark-3.5.1\n"
          ]
        }
      ],
      "source": [
        "!pip install pyspark"
      ]
    },
    {
      "cell_type": "code",
      "execution_count": 101,
      "metadata": {
        "id": "AEbH09Wbga5F"
      },
      "outputs": [],
      "source": [
        "import pandas as pd\n",
        "import numpy as np\n",
        "from pyspark.ml.clustering import KMeans\n",
        "from pyspark.ml.feature import VectorAssembler, PCA\n",
        "from pyspark.sql import SparkSession\n",
        "from sklearn.metrics.pairwise import cosine_similarity\n",
        "import matplotlib.pyplot as plt"
      ]
    },
    {
      "cell_type": "code",
      "execution_count": 11,
      "metadata": {
        "id": "ZozzthIKgOk9"
      },
      "outputs": [],
      "source": [
        "spark = SparkSession.builder.appName(\"PCA_KMeansExample\").getOrCreate()"
      ]
    },
    {
      "cell_type": "code",
      "execution_count": 13,
      "metadata": {
        "id": "6GWioqeNxbM1"
      },
      "outputs": [],
      "source": [
        "train = spark.read.csv('/content/drive/MyDrive/Final Project/pre_processed_train.csv', header=True, inferSchema=True)"
      ]
    },
    {
      "cell_type": "code",
      "execution_count": 14,
      "metadata": {
        "colab": {
          "base_uri": "https://localhost:8080/"
        },
        "id": "LsiKgHtyyZNN",
        "outputId": "691888f0-f9fa-45db-99e3-68817b7d3b2d"
      },
      "outputs": [
        {
          "data": {
            "text/plain": [
              "['_c0',\n",
              " 'Id',\n",
              " 'Day',\n",
              " 'Month',\n",
              " 'Year',\n",
              " 'Sequence',\n",
              " 'meal_time',\n",
              " 'is_snack',\n",
              " 'is_drinks',\n",
              " 'is_supplement',\n",
              " 'is_workout',\n",
              " 'Calories_value',\n",
              " 'Carbs_value',\n",
              " 'Fat_value',\n",
              " 'Protein_value',\n",
              " 'Sodium_value',\n",
              " 'Sugar_value',\n",
              " 'Calories_total',\n",
              " 'Carbs_total',\n",
              " 'Fat_total',\n",
              " 'Fiber_total',\n",
              " 'Protein_total',\n",
              " 'Sodium_total',\n",
              " 'Sugar_total',\n",
              " 'Calories_goal',\n",
              " 'Carbs_goal',\n",
              " 'Fat_goal',\n",
              " 'Fiber_goal',\n",
              " 'Protein_goal',\n",
              " 'Sodium_goal',\n",
              " 'Sugar_goal',\n",
              " 'DishName',\n",
              " 'success_index',\n",
              " 'Feature_Vector']"
            ]
          },
          "execution_count": 14,
          "metadata": {},
          "output_type": "execute_result"
        }
      ],
      "source": [
        "train.columns"
      ]
    },
    {
      "cell_type": "code",
      "execution_count": 17,
      "metadata": {
        "id": "mimca8K3w1yM"
      },
      "outputs": [],
      "source": [
        "features = [\n",
        "    'Day',\n",
        "    'Month',\n",
        "    'Year',\n",
        "    'Sequence',\n",
        "    'meal_time',\n",
        "    'is_snack',\n",
        "    'is_drinks',\n",
        "    'is_supplement',\n",
        "    'is_workout',\n",
        "    'Calories_goal',\n",
        "    'Carbs_goal',\n",
        "    'Fat_goal',\n",
        "    'Fiber_goal',\n",
        "    'Protein_goal',\n",
        "    'Sodium_goal',\n",
        "    'Sugar_goal']"
      ]
    },
    {
      "cell_type": "code",
      "execution_count": 18,
      "metadata": {
        "id": "41EQ1h5fxS_9"
      },
      "outputs": [],
      "source": [
        "assembler = VectorAssembler(\n",
        "    inputCols=features,\n",
        "    outputCol=\"features\"\n",
        ")\n",
        "assembled_df = assembler.transform(train)"
      ]
    },
    {
      "cell_type": "markdown",
      "metadata": {
        "id": "8cestMG-aOUY"
      },
      "source": [
        "# **For visualization use pca to see how many clastering do i have**"
      ]
    },
    {
      "cell_type": "code",
      "execution_count": 19,
      "metadata": {
        "id": "8YpJs0bGxU7d"
      },
      "outputs": [],
      "source": [
        "pca = PCA(k=2, inputCol=\"features\", outputCol=\"pca_features\")\n",
        "pca_model = pca.fit(assembled_df)\n",
        "pca_result = pca_model.transform(assembled_df)"
      ]
    },
    {
      "cell_type": "code",
      "execution_count": 20,
      "metadata": {
        "colab": {
          "base_uri": "https://localhost:8080/"
        },
        "id": "_rTlcrQUxWp-",
        "outputId": "eb0dd280-7196-4bfc-9c02-0d6b2ddff3e1"
      },
      "outputs": [
        {
          "name": "stdout",
          "output_type": "stream",
          "text": [
            "+---+---------------------------------------------+\n",
            "|id |pca_features                                 |\n",
            "+---+---------------------------------------------+\n",
            "|1  |[-0.548863689338937,1.313654824559103E-4]    |\n",
            "|1  |[0.7512820997246221,7.127906793301756E-4]    |\n",
            "|1  |[0.7669124580641516,2.192595286805563E-4]    |\n",
            "|1  |[-0.5987001570026577,-5.795069211903225E-5]  |\n",
            "|1  |[-0.5961086214894699,-3.3067067484387347E-4] |\n",
            "|1  |[-0.48469035271862887,-2.2057304047957494E-6]|\n",
            "|1  |[0.7590971235810585,4.6584192847134407E-4]   |\n",
            "|1  |[-0.653767862859754,-3.8103544137985226E-4]  |\n",
            "|1  |[0.6949251680923568,6.188464046423551E-4]    |\n",
            "|1  |[-0.6563670177773424,-2.1387452989129061E-4] |\n",
            "|1  |[0.7525820723281645,6.318457175498526E-4]    |\n",
            "|1  |[-0.482085264389615,-8.336941841592092E-5]   |\n",
            "|1  |[-0.5423578060463916,-1.701330233617874E-4]  |\n",
            "|1  |[0.7382541303234178,0.0010832043668281995]   |\n",
            "|1  |[-0.5449546740253961,2.905203421176833E-5]   |\n",
            "|1  |[0.6818964632274104,9.789011062794313E-4]    |\n",
            "|1  |[-0.5843832287856041,-6.612056050081822E-4]  |\n",
            "|1  |[-0.518901998612097,-7.616815871203383E-4]   |\n",
            "|1  |[0.6554975671559441,-5.800088653448642E-5]   |\n",
            "|1  |[-0.5293237926992193,-4.5732903330772894E-4] |\n",
            "+---+---------------------------------------------+\n",
            "only showing top 20 rows\n",
            "\n"
          ]
        }
      ],
      "source": [
        "pca_result.select(\"id\", \"pca_features\").show(truncate=False)"
      ]
    },
    {
      "cell_type": "code",
      "execution_count": 21,
      "metadata": {
        "id": "s7ovVCMtzoZ_"
      },
      "outputs": [],
      "source": [
        "pca_rdd = pca_result.select(\"id\", \"pca_features\").rdd"
      ]
    },
    {
      "cell_type": "code",
      "execution_count": 22,
      "metadata": {
        "id": "_3Nsyt1vz4cL"
      },
      "outputs": [],
      "source": [
        "pca_data = pca_rdd.map(lambda row: (row['id'], row['pca_features'][0], row['pca_features'][1])).collect()\n",
        "\n",
        "ids, pc1, pc2 = zip(*pca_data)"
      ]
    },
    {
      "cell_type": "code",
      "execution_count": 24,
      "metadata": {
        "colab": {
          "base_uri": "https://localhost:8080/",
          "height": 564
        },
        "id": "GNkqznxGz6n7",
        "outputId": "c9a2f5a8-d6f4-4244-dcea-e5388eab4d55"
      },
      "outputs": [
        {
          "data": {
            "image/png": "[encoded data removed]",
            "text/plain": [
              "<Figure size 1000x600 with 2 Axes>"
            ]
          },
          "metadata": {},
          "output_type": "display_data"
        }
      ],
      "source": [
        "plt.figure(figsize=(10, 6))\n",
        "plt.scatter(pc1, pc2, c=ids, cmap='viridis', s=100)\n",
        "\n",
        "plt.colorbar(label='ID')\n",
        "\n",
        "plt.title('PCA Result Visualization')\n",
        "plt.xlabel('Principal Component 1')\n",
        "plt.ylabel('Principal Component 2')\n",
        "plt.grid(True)\n",
        "plt.show()"
      ]
    },
    {
      "cell_type": "markdown",
      "metadata": {
        "id": "4Md3yV5GaW6H"
      },
      "source": [
        "# **Experiment with K-Means algorithm**"
      ]
    },
    {
      "cell_type": "code",
      "execution_count": 25,
      "metadata": {
        "id": "vwXcEXPM1COW"
      },
      "outputs": [],
      "source": [
        "kmeans = KMeans(k=4, seed=1, featuresCol=\"features\", predictionCol=\"cluster\")\n",
        "\n",
        "kmeans_model = kmeans.fit(assembled_df)\n",
        "\n",
        "kmeans_result = kmeans_model.transform(assembled_df)"
      ]
    },
    {
      "cell_type": "code",
      "execution_count": 26,
      "metadata": {
        "colab": {
          "base_uri": "https://localhost:8080/"
        },
        "id": "pK2fb_VM3zoH",
        "outputId": "666dde94-400c-417f-f463-9398cacb4f46"
      },
      "outputs": [
        {
          "name": "stdout",
          "output_type": "stream",
          "text": [
            "+---+---+------------------+------------------+----+--------+---------+--------+---------+-------------+----------+------------------+------------------+------------------+------------------+------------------+------------------+------------------+------------------+------------------+-----------+------------------+------------------+-----------------+------------------+------------------+------------------+----------+------------------+------------------+------------------+--------------------+------------------+--------------------+--------------------+-------+\n",
            "|_c0| Id|               Day|             Month|Year|Sequence|meal_time|is_snack|is_drinks|is_supplement|is_workout|    Calories_value|       Carbs_value|         Fat_value|     Protein_value|      Sodium_value|       Sugar_value|    Calories_total|       Carbs_total|         Fat_total|Fiber_total|     Protein_total|      Sodium_total|      Sugar_total|     Calories_goal|        Carbs_goal|          Fat_goal|Fiber_goal|      Protein_goal|       Sodium_goal|        Sugar_goal|            DishName|     success_index|      Feature_Vector|            features|cluster|\n",
            "+---+---+------------------+------------------+----+--------+---------+--------+---------+-------------+----------+------------------+------------------+------------------+------------------+------------------+------------------+------------------+------------------+------------------+-----------+------------------+------------------+-----------------+------------------+------------------+------------------+----------+------------------+------------------+------------------+--------------------+------------------+--------------------+--------------------+-------+\n",
            "|  0|  1|0.7666666666666667|0.8181818181818182| 0.0|     0.0|      0.0|     0.0|      0.0|          0.0|       0.0|0.5117209834190967|0.1172022684310018|0.0364050056882821|0.0640535372848948|0.3718728870858688|  0.05937794533459|0.0023858652063505| 9.057928058236E-4|            0.0028|        0.0|0.0040666666666666|0.0045348936859044|8.927774305865E-4|0.0608025164953199|0.0012822422401678|0.0013638271086865|       0.0| 7.771139929088E-4|0.0999608848711373| 0.001711596063329|Redbak - Sting-ch...|0.1601921692730418|[0.81818181818181...|(16,[0,1,9,10,11,...|      1|\n",
            "|  1|  1|0.5333333333333333|               0.0| 1.0|     0.0|      0.0|     0.0|      0.0|          0.0|       0.0|0.5088622069754145|0.1172022684310018|0.0523321956769055|0.0640535372848948| 0.493576741041244| 0.060320452403393| 0.003410418793716| 7.445522016456E-4|            0.0044|        0.0|           0.00645|0.0058060922309296|2.678332291759E-4|0.0601887371489949|0.0012692902983479|0.0013638271086865|       0.0| 7.576861430861E-4|0.0999608848711373|0.0016830694622735|Coon - Light and ...|0.1608000409549299|[0.0, 1.0, 0.0, 0...|(16,[0,2,9,10,11,...|      0|\n",
            "|  2|  1|0.1333333333333333|               0.0| 1.0|     0.0|      0.0|     0.0|      0.0|          0.0|       0.0|0.5117209834190967|0.1172022684310018|0.0364050056882821|0.0640535372848948|0.3718728870858688|  0.05937794533459|0.0021038452293405|0.0010196097028904|            0.0019|        0.0|0.0040666666666666|0.0043539740427922|8.927774305865E-4|0.0852769679300291|0.0024608689457766|0.0019408308854385|       0.0| 0.001078245665161|0.0999608848711373|0.0047782056767936|Redbak - Sting-ch...|0.1842732408168725|[0.0, 1.0, 0.0, 0...|(16,[0,2,9,10,11,...|      0|\n",
            "|  3|  1|0.5666666666666667|0.9090909090909092| 0.0|     0.0|      0.0|     0.0|      0.0|          0.0|       0.0|0.5317324185248714|0.1389413988657845|0.0409556313993174|0.0640535372848948| 0.493576741041244| 0.062205466540999| 0.003410418793716| 8.631114694235E-4|            0.0044|        0.0|           0.00645|0.0140331749492948|4.106776180698E-4|0.0218658892128279|0.0010296793746802| 2.098195551825E-4|       0.0|-1.602797610374E-4|0.0999608848711373|0.0013692768506632|Quest - Apple Pie...|0.1459703093140312|[0.90909090909090...|(16,[0,1,9,10,11,...|      1|\n",
            "|  4|  1|               0.5|0.9090909090909092| 0.0|     0.0|      0.0|     0.0|      0.0|          0.0|       0.0|0.6346483704974272|0.1351606805293005|0.0523321956769055|0.0640535372848948| 0.493576741041244| 0.060320452403393| 0.003410418793716| 8.393996158679E-4|            0.0044|        0.0|           0.00645|0.0046967691560574|2.916406273249E-4|0.1170016878932024|0.0013275740365374|0.0029374737725556|       0.0|0.0023653407159162|0.0999608848711373|0.0047782056767936|Quest - Peanut Bu...|0.2051745996697958|[0.90909090909090...|(16,[0,1,9,10,11,...|      1|\n",
            "|  5|  1|               0.6|0.7272727272727273| 0.0|     0.0|      0.0|     0.0|      0.0|          0.0|       0.0|0.6346483704974272|0.1587901701323251|0.0523321956769055|0.0640535372848948| 0.493576741041244| 0.063147973609802| 0.003410418793716| 8.536267280013E-4|            0.0044|        0.0|0.0038333333333333|0.0047562821965549|8.927774305865E-4|0.0609559613319011|0.0012822422401678|0.0013900545530843|       0.0| 7.771139929088E-4|0.0999608848711373| 0.001711596063329|Pauls - Smarter W...|0.1598657229390448|[0.72727272727272...|(16,[0,1,9,10,11,...|      1|\n",
            "|  6|  1|0.3333333333333333|               0.0| 1.0|     0.0|      0.0|     0.0|      0.0|          0.0|       0.0|0.5294453973699257|0.1587901701323251|0.0364050056882821|0.0497131931166348| 0.493576741041244|0.0584354382657869|0.0021157448064295| 9.057928058236E-4|0.0023333333333333|        0.0|           0.00645| 0.004520610556185|8.927774305865E-4|0.0728862973760933|0.0015412810765654|0.0016523289970625|       0.0| 9.228228665792E-4|0.0999608848711373|0.0020253886749393|Uncle Tobys Austr...|0.1724347003462643|[0.0, 1.0, 0.0, 0...|(16,[0,2,9,10,11,...|      0|\n",
            "|  7|  1|               0.5|               1.0| 0.0|     0.0|      0.0|     0.0|      0.0|          0.0|       0.0|0.6346483704974272|0.1587901701323251|0.0523321956769055|0.0506692160611854| 0.493576741041244| 0.060320452403393| 0.003410418793716| 0.001721480568136|            0.0044|        0.0|           0.00645|0.0140331749492948|8.927774305865E-4|0.1170016878932024|0.0024608689457766|0.0029374737725556|       0.0|0.0011850988391859|0.0999608848711373|0.0047782056767936|Chips - Hot, 1 bu...|0.1900961741329802|[1.0, 0.0, 0.0, 0...|(16,[0,1,9,10,11,...|      1|\n",
            "|  8|  1|               0.5|0.0909090909090909| 1.0|     0.0|      0.0|     0.0|      0.0|          0.0|       0.0|0.6346483704974272|0.1587901701323251|0.0523321956769055|0.0640535372848948| 0.493576741041244| 0.063147973609802| 0.003410418793716| 7.967182794679E-4|            0.0044|        0.0|           0.00645|0.0065035850655595|8.927774305865E-4|0.0634494399263464|0.0013405259783573|0.0014425094418799|       0.0| 8.062557676429E-4|0.0999608848711373|  0.00176864926544|my - McDonalds Es...| 0.163749192142167|[0.09090909090909...|(16,[0,1,2,9,10,1...|      0|\n",
            "|  9|  1|0.5666666666666667|               1.0| 0.0|     0.0|      0.0|     0.0|      0.0|          0.0|       0.0|0.5128644939965694|0.1587901701323251|0.0352673492605233|0.0449330783938814| 0.493576741041244| 0.063147973609802|0.0023834852909327|0.0010053825907571|0.0019333333333333|        0.0|           0.00645|0.0062464887306106|8.927774305865E-4|0.0723108792389136|0.0015283291347455|0.0016523289970625|       0.0| 9.131089416678E-4|0.0999608848711373|0.0020253886749393|Gatorade - Lemon-...|0.1700247468872003|[1.0, 0.0, 0.0, 0...|(16,[0,1,9,10,11,...|      1|\n",
            "| 10|  1|               0.5|               0.0| 1.0|     0.0|      0.0|     0.0|      0.0|          0.0|       0.0|0.4922813036020583|0.1342155009451796|0.0352673492605233|0.0478011472275334|0.3245436105476673|0.0584354382657869| 0.003410418793716| 0.001721480568136|            0.0044|        0.0|           0.00645|0.0044825222102667|8.927774305865E-4|0.0811723185514807|0.0024608689457766| 0.001862148552245|       0.0|0.0010296760406042|0.0999608848711373|0.0047782056767936|Fresh Small - Nec...|0.1822012811038398|[0.0, 1.0, 0.0, 0...|(16,[0,2,9,10,11,...|      0|\n",
            "| 11|  1|0.5333333333333333|0.7272727272727273| 0.0|     0.0|      0.0|     0.0|      0.0|          0.0|       0.0|0.6346483704974272|0.1153119092627599|0.0352673492605233|0.0449330783938814|0.3245436105476673|0.0584354382657869| 0.003410418793716| 8.868233229791E-4|             0.002|        0.0|0.0032666666666666|0.0042016206591188|8.927774305865E-4|0.0646386374098511|0.0013599538910871|0.0014687368862778|       0.0| 8.256836174656E-4|0.0999608848711373|0.0017971758664955|Carluccio's - Aff...|0.1623369152152451|[0.72727272727272...|(16,[0,1,9,10,11,...|      1|\n",
            "| 12|  1|               0.6|0.8181818181818182| 0.0|     0.0|      0.0|     0.0|      0.0|          0.0|       0.0|0.5128644939965694|0.1162570888468809|0.0523321956769055|0.0640535372848948| 0.493576741041244|  0.05937794533459| 0.003410418793716| 0.001721480568136|            0.0044|        0.0|            0.0042|0.0140331749492948|8.927774305865E-4|0.1170016878932024|0.0024608689457766|0.0029374737725556|       0.0|0.0023653407159162|0.0999608848711373|0.0047782056767936|Eggs - Poached (w...|0.2295885578681808|[0.81818181818181...|(16,[0,1,9,10,11,...|      1|\n",
            "| 13|  1|0.8666666666666667|               0.0| 1.0|     0.0|      0.0|     0.0|      0.0|          0.0|       0.0|0.5431675242995998|0.1361058601134215|0.0443686006825938|0.0640535372848948| 0.493576741041244| 0.060320452403393|0.0019574804311454| 8.536267280013E-4|0.0023666666666666|        0.0|             0.003|0.0039302411944505|8.927774305865E-4|0.0586926499923277|0.0012369104437982|0.0013375996642887|       0.0| 7.479722181747E-4|0.0999608848711373|0.0016260162601626|Quest Nutrition -...|0.1575503007873662|[0.0, 1.0, 0.0, 0...|(16,[0,2,9,10,11,...|      0|\n",
            "| 14|  1|0.6666666666666666|0.8181818181818182| 0.0|     0.0|      0.0|     0.0|      0.0|          0.0|       0.0|0.6346483704974272|0.1587901701323251|0.0523321956769055|0.0640535372848948| 0.493576741041244| 0.063147973609802| 0.003410418793716| 4.552675882673E-4|0.0012333333333333|        0.0|0.0016666666666666|0.0020353459850122|3.749665208463E-4|0.0570431179990793|0.0012045305892485| 0.001285144775493|       0.0|  7.28544368352E-4|0.0999608848711373|0.0015974896591071|Pauls - Smarter W...|0.1550387795322865|[0.81818181818181...|(16,[0,1,9,10,11,...|      1|\n",
            "| 15|  1|0.8333333333333334|0.0909090909090909| 1.0|     0.0|      0.0|     0.0|      0.0|          0.0|       0.0|0.6346483704974272|0.1587901701323251|0.0523321956769055|0.0640535372848948| 0.493576741041244| 0.063147973609802|0.0020871858214159| 6.544471581343E-4|            0.0044|        0.0|0.0034333333333333|0.0049943343585446|4.047257685325E-4|0.0669019487494245|0.0014117616583666|0.0015211917750734|       0.0| 8.451114672883E-4|0.0999608848711373|0.0018542290686064|Pauls - Smarter W...|0.1659551613318791|[0.09090909090909...|(16,[0,1,2,9,10,1...|      0|\n",
            "| 16|  1|               0.2|0.9090909090909092| 0.0|     0.0|      0.0|     0.0|      0.0|          0.0|       0.0|0.6346483704974272|0.1587901701323251|0.0523321956769055|0.0640535372848948|0.3245436105476673|0.0584354382657869| 0.003410418793716| 0.001721480568136|0.0026666666666666|        0.0|           0.00645|0.0018282406040811|8.927774305865E-4|0.1170016878932024|0.0024608689457766|0.0029374737725556|       0.0|0.0013308077128563|0.0999608848711373|0.0047782056767936|Uncle Toby's - Qu...|0.2057547100066299|[0.90909090909090...|(16,[0,1,9,10,11,...|      1|\n",
            "| 17|  1|               0.0|0.8181818181818182| 0.0|     0.0|      0.0|     0.0|      0.0|          0.0|       0.0|0.6346483704974272|0.1587901701323251|0.0523321956769055|0.0497131931166348| 0.493576741041244|  0.05937794533459| 0.003410418793716| 8.062030208901E-4|            0.0044|        0.0|           0.00645|0.0046182119426008|8.927774305865E-4|0.0837425195642166|0.0024608689457766|0.0018883759966428|       0.0|0.0010685317402496|0.0999608848711373|0.0047782056767936|Grilld - Snack Ch...|0.1858691805745253|[0.81818181818181...|(16,[1,9,10,11,13...|      1|\n",
            "| 18|  1|0.0333333333333333|0.1818181818181818| 1.0|     0.0|      0.0|     0.0|      0.0|          0.0|       0.0|0.6346483704974272|0.1228733459357277|0.0523321956769055|0.0544933078393881| 0.493576741041244| 0.061262959472196| 0.003410418793716| 9.769283664904E-4|            0.0044|        0.0|           0.00645|0.0140331749492948|8.927774305865E-4|0.1170016878932024|0.0024608689457766|0.0029374737725556|       0.0|0.0013308077128563|0.0999608848711373|0.0047782056767936|Nobby's - Salted ...|0.2050597249946666|[0.18181818181818...|(16,[0,1,2,9,10,1...|      0|\n",
            "| 19|  1|0.2666666666666666|0.8181818181818182| 0.0|     0.0|      0.0|     0.0|      0.0|          0.0|       0.0|0.6346483704974272|0.1587901701323251|0.0523321956769055|0.0640535372848948| 0.493576741041244| 0.063147973609802| 0.003410418793716| 7.777487966234E-4|            0.0025|        0.0|           0.00645|0.0033470133975756|8.927774305865E-4|0.0787172011661807|0.0016578485529443|0.0017834662190516|       0.0|0.0010005342658701|0.0999608848711373|0.0047782056767936|my - McDonalds Es...|0.1815570410233403|[0.81818181818181...|(16,[0,1,9,10,11,...|      1|\n",
            "+---+---+------------------+------------------+----+--------+---------+--------+---------+-------------+----------+------------------+------------------+------------------+------------------+------------------+------------------+------------------+------------------+------------------+-----------+------------------+------------------+-----------------+------------------+------------------+------------------+----------+------------------+------------------+------------------+--------------------+------------------+--------------------+--------------------+-------+\n",
            "only showing top 20 rows\n",
            "\n"
          ]
        }
      ],
      "source": [
        "kmeans_result.show()"
      ]
    },
    {
      "cell_type": "code",
      "execution_count": 27,
      "metadata": {
        "id": "6Mwpaski6CKX"
      },
      "outputs": [],
      "source": [
        "cluster_counts = kmeans_result.groupBy(\"cluster\").count()"
      ]
    },
    {
      "cell_type": "code",
      "execution_count": 28,
      "metadata": {
        "colab": {
          "base_uri": "https://localhost:8080/"
        },
        "id": "Iz4qNJKs6OHQ",
        "outputId": "0fa1ba5e-7a30-44fe-c2ba-319ff24c1acf"
      },
      "outputs": [
        {
          "name": "stdout",
          "output_type": "stream",
          "text": [
            "+-------+-------+\n",
            "|cluster|  count|\n",
            "+-------+-------+\n",
            "|      1|1149028|\n",
            "|      3| 400314|\n",
            "|      2|1080182|\n",
            "|      0|2539686|\n",
            "+-------+-------+\n",
            "\n"
          ]
        }
      ],
      "source": [
        "cluster_counts.show()"
      ]
    },
    {
      "cell_type": "code",
      "execution_count": 29,
      "metadata": {
        "id": "DZJPWeMr6PhD"
      },
      "outputs": [],
      "source": [
        "kmeans_result.write.mode(\"overwrite\").parquet(\"/content/drive/MyDrive/Final Project/kmeans.parquet\")\n",
        "spark.stop()"
      ]
    },
    {
      "cell_type": "code",
      "execution_count": 30,
      "metadata": {
        "id": "QrgQ0bRa7G6k"
      },
      "outputs": [],
      "source": [
        "spark = SparkSession.builder.appName(\"KNN\").getOrCreate()"
      ]
    },
    {
      "cell_type": "code",
      "execution_count": 34,
      "metadata": {
        "id": "WErBHDggAIQG"
      },
      "outputs": [],
      "source": [
        "cluster_centers = kmeans_model.clusterCenters()"
      ]
    },
    {
      "cell_type": "code",
      "execution_count": 47,
      "metadata": {
        "id": "y8nRPUDuMSfh"
      },
      "outputs": [],
      "source": [
        "test = pd.read_csv('/content/drive/MyDrive/Final Project/pre_processed_test.csv')"
      ]
    },
    {
      "cell_type": "code",
      "execution_count": 78,
      "metadata": {
        "id": "_wKgP376NSh6"
      },
      "outputs": [],
      "source": [
        "user_1 = test.iloc[[322212],:]"
      ]
    },
    {
      "cell_type": "code",
      "execution_count": 79,
      "metadata": {
        "colab": {
          "base_uri": "https://localhost:8080/"
        },
        "id": "RhGWwYYdOMOH",
        "outputId": "62f499a3-c2a4-46a1-9c14-34f95f6673ff"
      },
      "outputs": [
        {
          "name": "stdout",
          "output_type": "stream",
          "text": [
            "Closest cluster index: 2\n"
          ]
        }
      ],
      "source": [
        "def euclidean_distance(v1, v2):\n",
        "    return np.sqrt(np.sum((v1 - v2) ** 2))\n",
        "\n",
        "distances = [euclidean_distance(user_1[features].values, center) for center in cluster_centers]\n",
        "\n",
        "closest_cluster_index = np.argmin(distances)\n",
        "closest_cluster_distance = distances[closest_cluster_index]\n",
        "\n",
        "print(f\"Closest cluster index: {closest_cluster_index}\")"
      ]
    },
    {
      "cell_type": "code",
      "execution_count": 84,
      "metadata": {
        "id": "YWffNR-AOSrH"
      },
      "outputs": [],
      "source": [
        "closest_center = cluster_centers[closest_cluster_index]"
      ]
    },
    {
      "cell_type": "code",
      "execution_count": 88,
      "metadata": {
        "id": "gRIILIncRhmY"
      },
      "outputs": [],
      "source": [
        "user_1.insert(0, 'cluster', closest_cluster_index)"
      ]
    },
    {
      "cell_type": "code",
      "execution_count": 89,
      "metadata": {
        "colab": {
          "base_uri": "https://localhost:8080/",
          "height": 162
        },
        "id": "ky-dGdFNV6Wh",
        "outputId": "1e4525b1-dc80-4316-9e79-d8c475bb8cd3"
      },
      "outputs": [
        {
          "data": {
            "application/vnd.google.colaboratory.intrinsic+json": {
              "type": "dataframe",
              "variable_name": "user_1"
            },
            "text/html": [
              "\n",
              "  <div id=\"df-65beabaa-5735-4260-9e36-a6e70e5aa719\" class=\"colab-df-container\">\n",
              "    <div>\n",
              "<style scoped>\n",
              "    .dataframe tbody tr th:only-of-type {\n",
              "        vertical-align: middle;\n",
              "    }\n",
              "\n",
              "    .dataframe tbody tr th {\n",
              "        vertical-align: top;\n",
              "    }\n",
              "\n",
              "    .dataframe thead th {\n",
              "        text-align: right;\n",
              "    }\n",
              "</style>\n",
              "<table border=\"1\" class=\"dataframe\">\n",
              "  <thead>\n",
              "    <tr style=\"text-align: right;\">\n",
              "      <th></th>\n",
              "      <th>cluster</th>\n",
              "      <th>Index</th>\n",
              "      <th>Id</th>\n",
              "      <th>Day</th>\n",
              "      <th>Month</th>\n",
              "      <th>Year</th>\n",
              "      <th>Sequence</th>\n",
              "      <th>meal_time</th>\n",
              "      <th>is_snack</th>\n",
              "      <th>is_drinks</th>\n",
              "      <th>...</th>\n",
              "      <th>Sugar_total</th>\n",
              "      <th>Calories_goal</th>\n",
              "      <th>Carbs_goal</th>\n",
              "      <th>Fat_goal</th>\n",
              "      <th>Fiber_goal</th>\n",
              "      <th>Protein_goal</th>\n",
              "      <th>Sodium_goal</th>\n",
              "      <th>Sugar_goal</th>\n",
              "      <th>DishName</th>\n",
              "      <th>success_index</th>\n",
              "    </tr>\n",
              "  </thead>\n",
              "  <tbody>\n",
              "    <tr>\n",
              "      <th>322212</th>\n",
              "      <td>2</td>\n",
              "      <td>322212</td>\n",
              "      <td>2530</td>\n",
              "      <td>0.56667</td>\n",
              "      <td>0.72727</td>\n",
              "      <td>0.0</td>\n",
              "      <td>0.2</td>\n",
              "      <td>0.666667</td>\n",
              "      <td>0.0</td>\n",
              "      <td>0.0</td>\n",
              "      <td>...</td>\n",
              "      <td>0.00005</td>\n",
              "      <td>0.08251</td>\n",
              "      <td>0.00104</td>\n",
              "      <td>0.00293</td>\n",
              "      <td>0.209675</td>\n",
              "      <td>0.002365</td>\n",
              "      <td>0.0</td>\n",
              "      <td>0.00077</td>\n",
              "      <td>D'Angelo's - Med Turkey Pokket w amer cheese,l...</td>\n",
              "      <td>0.18857</td>\n",
              "    </tr>\n",
              "  </tbody>\n",
              "</table>\n",
              "<p>1 rows × 34 columns</p>\n",
              "</div>\n",
              "    <div class=\"colab-df-buttons\">\n",
              "\n",
              "  <div class=\"colab-df-container\">\n",
              "    <button class=\"colab-df-convert\" onclick=\"convertToInteractive('df-65beabaa-5735-4260-9e36-a6e70e5aa719')\"\n",
              "            title=\"Convert this dataframe to an interactive table.\"\n",
              "            style=\"display:none;\">\n",
              "\n",
              "  <svg xmlns=\"http://www.w3.org/2000/svg\" height=\"24px\" viewBox=\"0 -960 960 960\">\n",
              "    <path d=\"M120-120v-720h720v720H120Zm60-500h600v-160H180v160Zm220 220h160v-160H400v160Zm0 220h160v-160H400v160ZM180-400h160v-160H180v160Zm440 0h160v-160H620v160ZM180-180h160v-160H180v160Zm440 0h160v-160H620v160Z\"/>\n",
              "  </svg>\n",
              "    </button>\n",
              "\n",
              "  <style>\n",
              "    .colab-df-container {\n",
              "      display:flex;\n",
              "      gap: 12px;\n",
              "    }\n",
              "\n",
              "    .colab-df-convert {\n",
              "      background-color: #E8F0FE;\n",
              "      border: none;\n",
              "      border-radius: 50%;\n",
              "      cursor: pointer;\n",
              "      display: none;\n",
              "      fill: #1967D2;\n",
              "      height: 32px;\n",
              "      padding: 0 0 0 0;\n",
              "      width: 32px;\n",
              "    }\n",
              "\n",
              "    .colab-df-convert:hover {\n",
              "      background-color: #E2EBFA;\n",
              "      box-shadow: 0px 1px 2px rgba(60, 64, 67, 0.3), 0px 1px 3px 1px rgba(60, 64, 67, 0.15);\n",
              "      fill: #174EA6;\n",
              "    }\n",
              "\n",
              "    .colab-df-buttons div {\n",
              "      margin-bottom: 4px;\n",
              "    }\n",
              "\n",
              "    [theme=dark] .colab-df-convert {\n",
              "      background-color: #3B4455;\n",
              "      fill: #D2E3FC;\n",
              "    }\n",
              "\n",
              "    [theme=dark] .colab-df-convert:hover {\n",
              "      background-color: #434B5C;\n",
              "      box-shadow: 0px 1px 3px 1px rgba(0, 0, 0, 0.15);\n",
              "      filter: drop-shadow(0px 1px 2px rgba(0, 0, 0, 0.3));\n",
              "      fill: #FFFFFF;\n",
              "    }\n",
              "  </style>\n",
              "\n",
              "    <script>\n",
              "      const buttonEl =\n",
              "        document.querySelector('#df-65beabaa-5735-4260-9e36-a6e70e5aa719 button.colab-df-convert');\n",
              "      buttonEl.style.display =\n",
              "        google.colab.kernel.accessAllowed ? 'block' : 'none';\n",
              "\n",
              "      async function convertToInteractive(key) {\n",
              "        const element = document.querySelector('#df-65beabaa-5735-4260-9e36-a6e70e5aa719');\n",
              "        const dataTable =\n",
              "          await google.colab.kernel.invokeFunction('convertToInteractive',\n",
              "                                                    [key], {});\n",
              "        if (!dataTable) return;\n",
              "\n",
              "        const docLinkHtml = 'Like what you see? Visit the ' +\n",
              "          '<a target=\"_blank\" href=https://colab.research.google.com/notebooks/data_table.ipynb>data table notebook</a>'\n",
              "          + ' to learn more about interactive tables.';\n",
              "        element.innerHTML = '';\n",
              "        dataTable['output_type'] = 'display_data';\n",
              "        await google.colab.output.renderOutput(dataTable, element);\n",
              "        const docLink = document.createElement('div');\n",
              "        docLink.innerHTML = docLinkHtml;\n",
              "        element.appendChild(docLink);\n",
              "      }\n",
              "    </script>\n",
              "  </div>\n",
              "\n",
              "\n",
              "  <div id=\"id_781f93df-10aa-450f-ade0-8f7f82faf29e\">\n",
              "    <style>\n",
              "      .colab-df-generate {\n",
              "        background-color: #E8F0FE;\n",
              "        border: none;\n",
              "        border-radius: 50%;\n",
              "        cursor: pointer;\n",
              "        display: none;\n",
              "        fill: #1967D2;\n",
              "        height: 32px;\n",
              "        padding: 0 0 0 0;\n",
              "        width: 32px;\n",
              "      }\n",
              "\n",
              "      .colab-df-generate:hover {\n",
              "        background-color: #E2EBFA;\n",
              "        box-shadow: 0px 1px 2px rgba(60, 64, 67, 0.3), 0px 1px 3px 1px rgba(60, 64, 67, 0.15);\n",
              "        fill: #174EA6;\n",
              "      }\n",
              "\n",
              "      [theme=dark] .colab-df-generate {\n",
              "        background-color: #3B4455;\n",
              "        fill: #D2E3FC;\n",
              "      }\n",
              "\n",
              "      [theme=dark] .colab-df-generate:hover {\n",
              "        background-color: #434B5C;\n",
              "        box-shadow: 0px 1px 3px 1px rgba(0, 0, 0, 0.15);\n",
              "        filter: drop-shadow(0px 1px 2px rgba(0, 0, 0, 0.3));\n",
              "        fill: #FFFFFF;\n",
              "      }\n",
              "    </style>\n",
              "    <button class=\"colab-df-generate\" onclick=\"generateWithVariable('user_1')\"\n",
              "            title=\"Generate code using this dataframe.\"\n",
              "            style=\"display:none;\">\n",
              "\n",
              "  <svg xmlns=\"http://www.w3.org/2000/svg\" height=\"24px\"viewBox=\"0 0 24 24\"\n",
              "       width=\"24px\">\n",
              "    <path d=\"M7,19H8.4L18.45,9,17,7.55,7,17.6ZM5,21V16.75L18.45,3.32a2,2,0,0,1,2.83,0l1.4,1.43a1.91,1.91,0,0,1,.58,1.4,1.91,1.91,0,0,1-.58,1.4L9.25,21ZM18.45,9,17,7.55Zm-12,3A5.31,5.31,0,0,0,4.9,8.1,5.31,5.31,0,0,0,1,6.5,5.31,5.31,0,0,0,4.9,4.9,5.31,5.31,0,0,0,6.5,1,5.31,5.31,0,0,0,8.1,4.9,5.31,5.31,0,0,0,12,6.5,5.46,5.46,0,0,0,6.5,12Z\"/>\n",
              "  </svg>\n",
              "    </button>\n",
              "    <script>\n",
              "      (() => {\n",
              "      const buttonEl =\n",
              "        document.querySelector('#id_781f93df-10aa-450f-ade0-8f7f82faf29e button.colab-df-generate');\n",
              "      buttonEl.style.display =\n",
              "        google.colab.kernel.accessAllowed ? 'block' : 'none';\n",
              "\n",
              "      buttonEl.onclick = () => {\n",
              "        google.colab.notebook.generateWithVariable('user_1');\n",
              "      }\n",
              "      })();\n",
              "    </script>\n",
              "  </div>\n",
              "\n",
              "    </div>\n",
              "  </div>\n"
            ],
            "text/plain": [
              "        cluster   Index    Id      Day    Month  Year  Sequence  meal_time  \\\n",
              "322212        2  322212  2530  0.56667  0.72727   0.0       0.2   0.666667   \n",
              "\n",
              "        is_snack  is_drinks  ...  Sugar_total  Calories_goal  Carbs_goal  \\\n",
              "322212       0.0        0.0  ...      0.00005        0.08251     0.00104   \n",
              "\n",
              "        Fat_goal  Fiber_goal  Protein_goal  Sodium_goal  Sugar_goal  \\\n",
              "322212   0.00293    0.209675      0.002365          0.0     0.00077   \n",
              "\n",
              "                                                 DishName  success_index  \n",
              "322212  D'Angelo's - Med Turkey Pokket w amer cheese,l...        0.18857  \n",
              "\n",
              "[1 rows x 34 columns]"
            ]
          },
          "execution_count": 89,
          "metadata": {},
          "output_type": "execute_result"
        }
      ],
      "source": [
        "user_1"
      ]
    },
    {
      "cell_type": "code",
      "execution_count": 92,
      "metadata": {
        "id": "vCKP4TPfWZWd"
      },
      "outputs": [],
      "source": [
        "spark = SparkSession.builder.appName('Read_Train').getOrCreate()\n",
        "train = spark.read.parquet('/content/drive/MyDrive/Final Project/kmeans.parquet')"
      ]
    },
    {
      "cell_type": "code",
      "execution_count": 94,
      "metadata": {
        "id": "xyECzwazWtYv"
      },
      "outputs": [],
      "source": [
        "cluster_2_data = train.filter(train[\"cluster\"] == 2)"
      ]
    },
    {
      "cell_type": "code",
      "execution_count": 97,
      "metadata": {
        "colab": {
          "base_uri": "https://localhost:8080/"
        },
        "id": "6Q-Ge-NVXF70",
        "outputId": "ac5b894e-5788-445c-b2f9-fa462f3f4769"
      },
      "outputs": [
        {
          "name": "stdout",
          "output_type": "stream",
          "text": [
            "+------------------+------------------+----+--------+------------------+--------+---------+-------------+----------+------------------+------------------+------------------+----------+------------------+------------------+------------------+\n",
            "|               Day|             Month|Year|Sequence|         meal_time|is_snack|is_drinks|is_supplement|is_workout|     Calories_goal|        Carbs_goal|          Fat_goal|Fiber_goal|      Protein_goal|       Sodium_goal|        Sugar_goal|\n",
            "+------------------+------------------+----+--------+------------------+--------+---------+-------------+----------+------------------+------------------+------------------+----------+------------------+------------------+------------------+\n",
            "|0.4666666666666667|0.9090909090909092| 0.0|     0.4|               1.0|     0.0|      0.0|          0.0|       0.0|0.0645235537824152|0.0013599538910871|0.0014687368862778|       0.0| 8.159696925542E-4|0.0999608848711373|0.0017971758664955|\n",
            "|0.5333333333333333|               1.0| 0.0|     0.4|               1.0|     0.0|      0.0|          0.0|       0.0|0.0553168635875402|0.0011656747637889|0.0012589173310952|       0.0|-1.602797610374E-4|0.0999608848711373|0.0015404364569961|\n",
            "|0.7333333333333333|               1.0| 0.0|     0.2|0.6666666666666666|     0.0|      0.0|          0.0|       0.0| 0.054549639404634| 0.001152722821969|0.0012326898866974|       0.0|-1.602797610374E-4|0.0999608848711373|0.0015119098559406|\n",
            "|               0.0|               1.0| 0.0|     0.4|               1.0|     0.0|      0.0|          0.0|       0.0| 0.062413687279423|0.0013146220947175|0.0014162819974821|       0.0| 7.868279178201E-4|0.0999608848711373|0.0017401226643845|\n",
            "|0.9333333333333332|0.8181818181818182| 0.0|     0.2|0.6666666666666666|     0.0|      0.0|          0.0|       0.0|0.0647920822464324| 0.001366429861997|0.0014687368862778|       0.0| 8.159696925542E-4|0.0999608848711373|0.0017971758664955|\n",
            "|0.4333333333333333|               1.0| 0.0|     0.2|0.6666666666666666|     0.0|      0.0|          0.0|       0.0|0.0218658892128279| 9.713956364908E-4| 2.098195551825E-4|       0.0|-1.602797610374E-4|0.0999608848711373|0.0012836970474967|\n",
            "|0.4333333333333333|               1.0| 0.0|     0.4|               1.0|     0.0|      0.0|          0.0|       0.0|0.0218658892128279| 9.713956364908E-4| 2.098195551825E-4|       0.0|-1.602797610374E-4|0.0999608848711373|0.0012836970474967|\n",
            "|0.9666666666666668|0.8181818181818182| 0.0|     0.2|0.6666666666666666|     0.0|      0.0|          0.0|       0.0|0.0541660273131809|0.0011462468510591|0.0012326898866974|       0.0|-1.602797610374E-4|0.0999608848711373|0.0015119098559406|\n",
            "|0.8666666666666667|               1.0| 0.0|     0.4|               1.0|     0.0|      0.0|          0.0|       0.0|0.0218658892128279| 9.713956364908E-4| 2.098195551825E-4|       0.0|-1.602797610374E-4|0.0999608848711373|0.0012836970474967|\n",
            "|0.1333333333333333|               1.0| 0.0|     0.2|0.6666666666666666|     0.0|      0.0|          0.0|       0.0|0.0616848243056621|0.0013016701528976|0.0014162819974821|       0.0| 7.771139929088E-4|0.0999608848711373| 0.001711596063329|\n",
            "|0.6666666666666666|               1.0| 0.0|     0.4|               1.0|     0.0|      0.0|          0.0|       0.0|0.0218658892128279| 9.713956364908E-4| 2.098195551825E-4|       0.0|-1.602797610374E-4|0.0999608848711373|0.0012836970474967|\n",
            "|0.9333333333333332|0.9090909090909092| 0.0|     0.2|0.6666666666666666|     0.0|      0.0|          0.0|       0.0|0.0218658892128279| 9.713956364908E-4| 2.098195551825E-4|       0.0|-1.602797610374E-4|0.0999608848711373|0.0012836970474967|\n",
            "|               0.4|               1.0| 0.0|     0.4|               1.0|     0.0|      0.0|          0.0|       0.0|0.0616848243056621|0.0013016701528976|0.0014162819974821|       0.0| 7.771139929088E-4|0.0999608848711373| 0.001711596063329|\n",
            "|               0.5|               1.0| 0.0|     0.2|0.6666666666666666|     0.0|      0.0|          0.0|       0.0| 0.053935860058309|0.0011397708801492|0.0012326898866974|       0.0|-1.602797610374E-4|0.0999608848711373|0.0015119098559406|\n",
            "|0.6666666666666666|0.8181818181818182| 0.0|     0.2|0.6666666666666666|     0.0|      0.0|          0.0|       0.0| 0.056889673162498|0.0011980546183386| 0.001285144775493|       0.0| 7.188304434406E-4|0.0999608848711373|0.0015974896591071|\n",
            "|               0.9|0.8181818181818182| 0.0|     0.4|               1.0|     0.0|      0.0|          0.0|       0.0|0.0647920822464324| 0.001366429861997|0.0014687368862778|       0.0| 8.159696925542E-4|0.0999608848711373|0.0017971758664955|\n",
            "|               0.2|0.9090909090909092| 0.0|     0.2|0.6666666666666666|     0.0|      0.0|          0.0|       0.0|0.0603421819855761|0.0012757662692579|0.0013638271086865|       0.0| 7.674000679974E-4|0.0999608848711373|0.0016830694622735|\n",
            "|0.8333333333333334|0.8181818181818182| 0.0|     0.4|               1.0|     0.0|      0.0|          0.0|       0.0|0.0218658892128279| 9.713956364908E-4| 2.098195551825E-4|       0.0|-1.602797610374E-4|0.0999608848711373|0.0012836970474967|\n",
            "|0.0333333333333333|0.9090909090909092| 0.0|     0.2|0.6666666666666666|     0.0|      0.0|          0.0|       0.0|0.0218658892128279| 9.713956364908E-4| 2.098195551825E-4|       0.0|-1.602797610374E-4|0.0999608848711373|0.0012836970474967|\n",
            "|               0.7|0.8181818181818182| 0.0|     0.4|               1.0|     0.0|      0.0|          0.0|       0.0|0.0543578333589074|0.0011462468510591|0.0012326898866974|       0.0|-1.602797610374E-4|0.0999608848711373|0.0015119098559406|\n",
            "+------------------+------------------+----+--------+------------------+--------+---------+-------------+----------+------------------+------------------+------------------+----------+------------------+------------------+------------------+\n",
            "only showing top 20 rows\n",
            "\n"
          ]
        }
      ],
      "source": [
        "selected_columns = cluster_2_data.select(features)\n",
        "\n",
        "selected_columns.show()"
      ]
    },
    {
      "cell_type": "code",
      "execution_count": 103,
      "metadata": {
        "colab": {
          "base_uri": "https://localhost:8080/"
        },
        "id": "fyaU8RVKX-IM",
        "outputId": "38cb9fdb-46c6-4b65-9c2b-67009f5b87d6"
      },
      "outputs": [
        {
          "name": "stdout",
          "output_type": "stream",
          "text": [
            "+------------------+------------------+----+--------+------------------+--------+---------+-------------+----------+------------------+------------------+------------------+----------+------------------+------------------+------------------+------------------+\n",
            "|               Day|             Month|Year|Sequence|         meal_time|is_snack|is_drinks|is_supplement|is_workout|     Calories_goal|        Carbs_goal|          Fat_goal|Fiber_goal|      Protein_goal|       Sodium_goal|        Sugar_goal| cosine_similarity|\n",
            "+------------------+------------------+----+--------+------------------+--------+---------+-------------+----------+------------------+------------------+------------------+----------+------------------+------------------+------------------+------------------+\n",
            "|0.4666666666666667|0.9090909090909092| 0.0|     0.4|               1.0|     0.0|      0.0|          0.0|       0.0|0.0645235537824152|0.0013599538910871|0.0014687368862778|       0.0| 8.159696925542E-4|0.0999608848711373|0.0017971758664955|0.9569798333504572|\n",
            "|0.5333333333333333|               1.0| 0.0|     0.4|               1.0|     0.0|      0.0|          0.0|       0.0|0.0553168635875402|0.0011656747637889|0.0012589173310952|       0.0|-1.602797610374E-4|0.0999608848711373|0.0015404364569961|0.9651266904080281|\n",
            "|0.7333333333333333|               1.0| 0.0|     0.2|0.6666666666666666|     0.0|      0.0|          0.0|       0.0| 0.054549639404634| 0.001152722821969|0.0012326898866974|       0.0|-1.602797610374E-4|0.0999608848711373|0.0015119098559406|0.9718322992517161|\n",
            "|               0.0|               1.0| 0.0|     0.4|               1.0|     0.0|      0.0|          0.0|       0.0| 0.062413687279423|0.0013146220947175|0.0014162819974821|       0.0| 7.868279178201E-4|0.0999608848711373|0.0017401226643845|0.8523341113045954|\n",
            "|0.9333333333333332|0.8181818181818182| 0.0|     0.2|0.6666666666666666|     0.0|      0.0|          0.0|       0.0|0.0647920822464324| 0.001366429861997|0.0014687368862778|       0.0| 8.159696925542E-4|0.0999608848711373|0.0017971758664955| 0.960144956701943|\n",
            "|0.4333333333333333|               1.0| 0.0|     0.2|0.6666666666666666|     0.0|      0.0|          0.0|       0.0|0.0218658892128279| 9.713956364908E-4| 2.098195551825E-4|       0.0|-1.602797610374E-4|0.0999608848711373|0.0012836970474967|0.9556718183169517|\n",
            "|0.4333333333333333|               1.0| 0.0|     0.4|               1.0|     0.0|      0.0|          0.0|       0.0|0.0218658892128279| 9.713956364908E-4| 2.098195551825E-4|       0.0|-1.602797610374E-4|0.0999608848711373|0.0012836970474967|0.9523457292203444|\n",
            "|0.9666666666666668|0.8181818181818182| 0.0|     0.2|0.6666666666666666|     0.0|      0.0|          0.0|       0.0|0.0541660273131809|0.0011462468510591|0.0012326898866974|       0.0|-1.602797610374E-4|0.0999608848711373|0.0015119098559406|0.9564138005549087|\n",
            "|0.8666666666666667|               1.0| 0.0|     0.4|               1.0|     0.0|      0.0|          0.0|       0.0|0.0218658892128279| 9.713956364908E-4| 2.098195551825E-4|       0.0|-1.602797610374E-4|0.0999608848711373|0.0012836970474967|0.9776798157044624|\n",
            "|0.1333333333333333|               1.0| 0.0|     0.2|0.6666666666666666|     0.0|      0.0|          0.0|       0.0|0.0616848243056621|0.0013016701528976|0.0014162819974821|       0.0| 7.771139929088E-4|0.0999608848711373| 0.001711596063329|0.8917971175397735|\n",
            "|0.6666666666666666|               1.0| 0.0|     0.4|               1.0|     0.0|      0.0|          0.0|       0.0|0.0218658892128279| 9.713956364908E-4| 2.098195551825E-4|       0.0|-1.602797610374E-4|0.0999608848711373|0.0012836970474967|0.9738723820524239|\n",
            "|0.9333333333333332|0.9090909090909092| 0.0|     0.2|0.6666666666666666|     0.0|      0.0|          0.0|       0.0|0.0218658892128279| 9.713956364908E-4| 2.098195551825E-4|       0.0|-1.602797610374E-4|0.0999608848711373|0.0012836970474967|0.9618709451417932|\n",
            "|               0.4|               1.0| 0.0|     0.4|               1.0|     0.0|      0.0|          0.0|       0.0|0.0616848243056621|0.0013016701528976|0.0014162819974821|       0.0| 7.771139929088E-4|0.0999608848711373| 0.001711596063329|0.9486460730205055|\n",
            "|               0.5|               1.0| 0.0|     0.2|0.6666666666666666|     0.0|      0.0|          0.0|       0.0| 0.053935860058309|0.0011397708801492|0.0012326898866974|       0.0|-1.602797610374E-4|0.0999608848711373|0.0015119098559406|0.9638090221237486|\n",
            "|0.6666666666666666|0.8181818181818182| 0.0|     0.2|0.6666666666666666|     0.0|      0.0|          0.0|       0.0| 0.056889673162498|0.0011980546183386| 0.001285144775493|       0.0| 7.188304434406E-4|0.0999608848711373|0.0015974896591071|0.9784731532503362|\n",
            "|               0.9|0.8181818181818182| 0.0|     0.4|               1.0|     0.0|      0.0|          0.0|       0.0|0.0647920822464324| 0.001366429861997|0.0014687368862778|       0.0| 8.159696925542E-4|0.0999608848711373|0.0017971758664955|0.9685912331872106|\n",
            "|               0.2|0.9090909090909092| 0.0|     0.2|0.6666666666666666|     0.0|      0.0|          0.0|       0.0|0.0603421819855761|0.0012757662692579|0.0013638271086865|       0.0| 7.674000679974E-4|0.0999608848711373|0.0016830694622735|0.9193079531439174|\n",
            "|0.8333333333333334|0.8181818181818182| 0.0|     0.4|               1.0|     0.0|      0.0|          0.0|       0.0|0.0218658892128279| 9.713956364908E-4| 2.098195551825E-4|       0.0|-1.602797610374E-4|0.0999608848711373|0.0012836970474967|0.9690667209472628|\n",
            "|0.0333333333333333|0.9090909090909092| 0.0|     0.2|0.6666666666666666|     0.0|      0.0|          0.0|       0.0|0.0218658892128279| 9.713956364908E-4| 2.098195551825E-4|       0.0|-1.602797610374E-4|0.0999608848711373|0.0012836970474967|0.8616830019886196|\n",
            "|               0.7|0.8181818181818182| 0.0|     0.4|               1.0|     0.0|      0.0|          0.0|       0.0|0.0543578333589074|0.0011462468510591|0.0012326898866974|       0.0|-1.602797610374E-4|0.0999608848711373|0.0015119098559406|0.9696116811188605|\n",
            "+------------------+------------------+----+--------+------------------+--------+---------+-------------+----------+------------------+------------------+------------------+----------+------------------+------------------+------------------+------------------+\n",
            "only showing top 20 rows\n",
            "\n"
          ]
        }
      ],
      "source": [
        "selected_columns_pd = selected_columns.toPandas()\n",
        "\n",
        "user_1_features_array = user_1[features].values\n",
        "\n",
        "user_1_features_reshaped = user_1_features_array.reshape(1, -1)\n",
        "features_array = selected_columns_pd[features].values\n",
        "\n",
        "similarities = cosine_similarity(features_array, user_1_features_reshaped)\n",
        "\n",
        "selected_columns_pd['cosine_similarity'] = similarities\n",
        "\n",
        "selected_columns_with_similarity = spark.createDataFrame(selected_columns_pd)\n",
        "\n",
        "selected_columns_with_similarity.show()"
      ]
    }
  ],
  "metadata": {
    "colab": {
      "provenance": []
    },
    "kernelspec": {
      "display_name": "Python 3",
      "name": "python3"
    },
    "language_info": {
      "name": "python"
    }
  },
  "nbformat": 4,
  "nbformat_minor": 0
}
